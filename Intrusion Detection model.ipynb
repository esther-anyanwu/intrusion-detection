{
 "cells": [
  {
   "cell_type": "markdown",
   "id": "b587d7f1-6b66-4c20-b5e7-892ecd5a4bac",
   "metadata": {
    "id": "b587d7f1-6b66-4c20-b5e7-892ecd5a4bac"
   },
   "source": [
    "* Importing the needed Libraries"
   ]
  },
  {
   "cell_type": "code",
   "execution_count": 30,
   "id": "714908a3-557c-4204-83cb-0b8eb567c4e9",
   "metadata": {
    "executionInfo": {
     "elapsed": 26,
     "status": "ok",
     "timestamp": 1669896158536,
     "user": {
      "displayName": "Prospero Aunuforo",
      "userId": "06502678527603390235"
     },
     "user_tz": -60
    },
    "id": "714908a3-557c-4204-83cb-0b8eb567c4e9"
   },
   "outputs": [],
   "source": [
    "import numpy as np\n",
    "import pandas as pd\n",
    "import matplotlib.pyplot as plt\n",
    "%matplotlib inline\n",
    "import seaborn as sns\n",
    "import glob\n",
    "from collections import Counter\n",
    "\n",
    "from pandas_profiling import ProfileReport\n",
    "from sklearn.feature_selection import SelectKBest, chi2, f_classif\n",
    "\n",
    "from sklearn import preprocessing\n",
    "from sklearn.preprocessing import MinMaxScaler\n",
    "from sklearn.ensemble import RandomForestClassifier \n",
    "from sklearn.neural_network import MLPClassifier\n",
    "from sklearn.model_selection import cross_val_predict, train_test_split\n",
    "from sklearn.metrics import (precision_score, recall_score, confusion_matrix, \n",
    "                             f1_score, ConfusionMatrixDisplay,\n",
    "                             classification_report, r2_score)\n",
    "from sklearn.svm import SVC\n",
    "from sklearn import metrics\n",
    "from imblearn.under_sampling import RandomUnderSampler \n",
    "\n",
    "\n",
    "from scipy.stats import pearsonr\n",
    "from scipy import stats\n",
    "from cmath import sqrt\n",
    "import math\n",
    "import warnings\n",
    "warnings.filterwarnings(\"ignore\")\n",
    "import joblib"
   ]
  },
  {
   "cell_type": "code",
   "execution_count": 31,
   "id": "aO5f4QJMuY25",
   "metadata": {
    "colab": {
     "base_uri": "https://localhost:8080/"
    },
    "executionInfo": {
     "elapsed": 8319,
     "status": "ok",
     "timestamp": 1669896221436,
     "user": {
      "displayName": "Prospero Aunuforo",
      "userId": "06502678527603390235"
     },
     "user_tz": -60
    },
    "id": "aO5f4QJMuY25",
    "outputId": "d2790514-1109-4584-ae45-aafe32dfcc13"
   },
   "outputs": [
    {
     "name": "stdout",
     "output_type": "stream",
     "text": [
      "Drive already mounted at /content/drive; to attempt to forcibly remount, call drive.mount(\"/content/drive\", force_remount=True).\n"
     ]
    }
   ],
   "source": [
    "from google.colab import drive\n",
    "drive.mount('/content/drive')"
   ]
  },
  {
   "cell_type": "markdown",
   "id": "191aaa8b-8f78-44a6-8e86-84d61f6c329f",
   "metadata": {
    "id": "191aaa8b-8f78-44a6-8e86-84d61f6c329f"
   },
   "source": [
    "* Importing the dataset\n"
   ]
  },
  {
   "cell_type": "code",
   "execution_count": 32,
   "id": "6d81cfb4-57d6-494a-b1a8-d175a3982f21",
   "metadata": {
    "executionInfo": {
     "elapsed": 16342,
     "status": "ok",
     "timestamp": 1669896237763,
     "user": {
      "displayName": "Prospero Aunuforo",
      "userId": "06502678527603390235"
     },
     "user_tz": -60
    },
    "id": "6d81cfb4-57d6-494a-b1a8-d175a3982f21"
   },
   "outputs": [],
   "source": [
    "csv_files = glob.glob('/content/drive/MyDrive/intrusion detection/dataset/*.{}'.format('csv'))\n",
    "data = pd.concat([pd.read_csv(f) for f in csv_files ], ignore_index = True)\n"
   ]
  },
  {
   "cell_type": "code",
   "execution_count": 33,
   "id": "IVDRD4ONjWXt",
   "metadata": {
    "colab": {
     "base_uri": "https://localhost:8080/",
     "height": 352
    },
    "executionInfo": {
     "elapsed": 7155,
     "status": "ok",
     "timestamp": 1669896262958,
     "user": {
      "displayName": "Prospero Aunuforo",
      "userId": "06502678527603390235"
     },
     "user_tz": -60
    },
    "id": "IVDRD4ONjWXt",
    "outputId": "5245204d-a0c4-452f-e300-12de1c637acb"
   },
   "outputs": [
    {
     "data": {
      "text/html": [
       "\n",
       "  <div id=\"df-f67da5cc-0beb-48b7-8cd4-2525ddc0e9b7\">\n",
       "    <div class=\"colab-df-container\">\n",
       "      <div>\n",
       "<style scoped>\n",
       "    .dataframe tbody tr th:only-of-type {\n",
       "        vertical-align: middle;\n",
       "    }\n",
       "\n",
       "    .dataframe tbody tr th {\n",
       "        vertical-align: top;\n",
       "    }\n",
       "\n",
       "    .dataframe thead th {\n",
       "        text-align: right;\n",
       "    }\n",
       "</style>\n",
       "<table border=\"1\" class=\"dataframe\">\n",
       "  <thead>\n",
       "    <tr style=\"text-align: right;\">\n",
       "      <th></th>\n",
       "      <th>Destination Port</th>\n",
       "      <th>Flow Duration</th>\n",
       "      <th>Total Fwd Packets</th>\n",
       "      <th>Total Backward Packets</th>\n",
       "      <th>Total Length of Fwd Packets</th>\n",
       "      <th>Total Length of Bwd Packets</th>\n",
       "      <th>Fwd Packet Length Max</th>\n",
       "      <th>Fwd Packet Length Min</th>\n",
       "      <th>Fwd Packet Length Mean</th>\n",
       "      <th>Fwd Packet Length Std</th>\n",
       "      <th>...</th>\n",
       "      <th>min_seg_size_forward</th>\n",
       "      <th>Active Mean</th>\n",
       "      <th>Active Std</th>\n",
       "      <th>Active Max</th>\n",
       "      <th>Active Min</th>\n",
       "      <th>Idle Mean</th>\n",
       "      <th>Idle Std</th>\n",
       "      <th>Idle Max</th>\n",
       "      <th>Idle Min</th>\n",
       "      <th>Label</th>\n",
       "    </tr>\n",
       "  </thead>\n",
       "  <tbody>\n",
       "    <tr>\n",
       "      <th>0</th>\n",
       "      <td>88</td>\n",
       "      <td>640</td>\n",
       "      <td>7</td>\n",
       "      <td>4</td>\n",
       "      <td>440</td>\n",
       "      <td>358</td>\n",
       "      <td>220</td>\n",
       "      <td>0</td>\n",
       "      <td>62.857143</td>\n",
       "      <td>107.349008</td>\n",
       "      <td>...</td>\n",
       "      <td>20</td>\n",
       "      <td>0.0</td>\n",
       "      <td>0.0</td>\n",
       "      <td>0</td>\n",
       "      <td>0</td>\n",
       "      <td>0.0</td>\n",
       "      <td>0.0</td>\n",
       "      <td>0</td>\n",
       "      <td>0</td>\n",
       "      <td>BENIGN</td>\n",
       "    </tr>\n",
       "    <tr>\n",
       "      <th>1</th>\n",
       "      <td>88</td>\n",
       "      <td>900</td>\n",
       "      <td>9</td>\n",
       "      <td>4</td>\n",
       "      <td>600</td>\n",
       "      <td>2944</td>\n",
       "      <td>300</td>\n",
       "      <td>0</td>\n",
       "      <td>66.666667</td>\n",
       "      <td>132.287566</td>\n",
       "      <td>...</td>\n",
       "      <td>20</td>\n",
       "      <td>0.0</td>\n",
       "      <td>0.0</td>\n",
       "      <td>0</td>\n",
       "      <td>0</td>\n",
       "      <td>0.0</td>\n",
       "      <td>0.0</td>\n",
       "      <td>0</td>\n",
       "      <td>0</td>\n",
       "      <td>BENIGN</td>\n",
       "    </tr>\n",
       "    <tr>\n",
       "      <th>2</th>\n",
       "      <td>88</td>\n",
       "      <td>1205</td>\n",
       "      <td>7</td>\n",
       "      <td>4</td>\n",
       "      <td>2776</td>\n",
       "      <td>2830</td>\n",
       "      <td>1388</td>\n",
       "      <td>0</td>\n",
       "      <td>396.571429</td>\n",
       "      <td>677.274651</td>\n",
       "      <td>...</td>\n",
       "      <td>20</td>\n",
       "      <td>0.0</td>\n",
       "      <td>0.0</td>\n",
       "      <td>0</td>\n",
       "      <td>0</td>\n",
       "      <td>0.0</td>\n",
       "      <td>0.0</td>\n",
       "      <td>0</td>\n",
       "      <td>0</td>\n",
       "      <td>BENIGN</td>\n",
       "    </tr>\n",
       "    <tr>\n",
       "      <th>3</th>\n",
       "      <td>88</td>\n",
       "      <td>511</td>\n",
       "      <td>7</td>\n",
       "      <td>4</td>\n",
       "      <td>452</td>\n",
       "      <td>370</td>\n",
       "      <td>226</td>\n",
       "      <td>0</td>\n",
       "      <td>64.571429</td>\n",
       "      <td>110.276708</td>\n",
       "      <td>...</td>\n",
       "      <td>20</td>\n",
       "      <td>0.0</td>\n",
       "      <td>0.0</td>\n",
       "      <td>0</td>\n",
       "      <td>0</td>\n",
       "      <td>0.0</td>\n",
       "      <td>0.0</td>\n",
       "      <td>0</td>\n",
       "      <td>0</td>\n",
       "      <td>BENIGN</td>\n",
       "    </tr>\n",
       "    <tr>\n",
       "      <th>4</th>\n",
       "      <td>88</td>\n",
       "      <td>773</td>\n",
       "      <td>9</td>\n",
       "      <td>4</td>\n",
       "      <td>612</td>\n",
       "      <td>2944</td>\n",
       "      <td>306</td>\n",
       "      <td>0</td>\n",
       "      <td>68.000000</td>\n",
       "      <td>134.933317</td>\n",
       "      <td>...</td>\n",
       "      <td>20</td>\n",
       "      <td>0.0</td>\n",
       "      <td>0.0</td>\n",
       "      <td>0</td>\n",
       "      <td>0</td>\n",
       "      <td>0.0</td>\n",
       "      <td>0.0</td>\n",
       "      <td>0</td>\n",
       "      <td>0</td>\n",
       "      <td>BENIGN</td>\n",
       "    </tr>\n",
       "  </tbody>\n",
       "</table>\n",
       "<p>5 rows × 77 columns</p>\n",
       "</div>\n",
       "      <button class=\"colab-df-convert\" onclick=\"convertToInteractive('df-f67da5cc-0beb-48b7-8cd4-2525ddc0e9b7')\"\n",
       "              title=\"Convert this dataframe to an interactive table.\"\n",
       "              style=\"display:none;\">\n",
       "        \n",
       "  <svg xmlns=\"http://www.w3.org/2000/svg\" height=\"24px\"viewBox=\"0 0 24 24\"\n",
       "       width=\"24px\">\n",
       "    <path d=\"M0 0h24v24H0V0z\" fill=\"none\"/>\n",
       "    <path d=\"M18.56 5.44l.94 2.06.94-2.06 2.06-.94-2.06-.94-.94-2.06-.94 2.06-2.06.94zm-11 1L8.5 8.5l.94-2.06 2.06-.94-2.06-.94L8.5 2.5l-.94 2.06-2.06.94zm10 10l.94 2.06.94-2.06 2.06-.94-2.06-.94-.94-2.06-.94 2.06-2.06.94z\"/><path d=\"M17.41 7.96l-1.37-1.37c-.4-.4-.92-.59-1.43-.59-.52 0-1.04.2-1.43.59L10.3 9.45l-7.72 7.72c-.78.78-.78 2.05 0 2.83L4 21.41c.39.39.9.59 1.41.59.51 0 1.02-.2 1.41-.59l7.78-7.78 2.81-2.81c.8-.78.8-2.07 0-2.86zM5.41 20L4 18.59l7.72-7.72 1.47 1.35L5.41 20z\"/>\n",
       "  </svg>\n",
       "      </button>\n",
       "      \n",
       "  <style>\n",
       "    .colab-df-container {\n",
       "      display:flex;\n",
       "      flex-wrap:wrap;\n",
       "      gap: 12px;\n",
       "    }\n",
       "\n",
       "    .colab-df-convert {\n",
       "      background-color: #E8F0FE;\n",
       "      border: none;\n",
       "      border-radius: 50%;\n",
       "      cursor: pointer;\n",
       "      display: none;\n",
       "      fill: #1967D2;\n",
       "      height: 32px;\n",
       "      padding: 0 0 0 0;\n",
       "      width: 32px;\n",
       "    }\n",
       "\n",
       "    .colab-df-convert:hover {\n",
       "      background-color: #E2EBFA;\n",
       "      box-shadow: 0px 1px 2px rgba(60, 64, 67, 0.3), 0px 1px 3px 1px rgba(60, 64, 67, 0.15);\n",
       "      fill: #174EA6;\n",
       "    }\n",
       "\n",
       "    [theme=dark] .colab-df-convert {\n",
       "      background-color: #3B4455;\n",
       "      fill: #D2E3FC;\n",
       "    }\n",
       "\n",
       "    [theme=dark] .colab-df-convert:hover {\n",
       "      background-color: #434B5C;\n",
       "      box-shadow: 0px 1px 3px 1px rgba(0, 0, 0, 0.15);\n",
       "      filter: drop-shadow(0px 1px 2px rgba(0, 0, 0, 0.3));\n",
       "      fill: #FFFFFF;\n",
       "    }\n",
       "  </style>\n",
       "\n",
       "      <script>\n",
       "        const buttonEl =\n",
       "          document.querySelector('#df-f67da5cc-0beb-48b7-8cd4-2525ddc0e9b7 button.colab-df-convert');\n",
       "        buttonEl.style.display =\n",
       "          google.colab.kernel.accessAllowed ? 'block' : 'none';\n",
       "\n",
       "        async function convertToInteractive(key) {\n",
       "          const element = document.querySelector('#df-f67da5cc-0beb-48b7-8cd4-2525ddc0e9b7');\n",
       "          const dataTable =\n",
       "            await google.colab.kernel.invokeFunction('convertToInteractive',\n",
       "                                                     [key], {});\n",
       "          if (!dataTable) return;\n",
       "\n",
       "          const docLinkHtml = 'Like what you see? Visit the ' +\n",
       "            '<a target=\"_blank\" href=https://colab.research.google.com/notebooks/data_table.ipynb>data table notebook</a>'\n",
       "            + ' to learn more about interactive tables.';\n",
       "          element.innerHTML = '';\n",
       "          dataTable['output_type'] = 'display_data';\n",
       "          await google.colab.output.renderOutput(dataTable, element);\n",
       "          const docLink = document.createElement('div');\n",
       "          docLink.innerHTML = docLinkHtml;\n",
       "          element.appendChild(docLink);\n",
       "        }\n",
       "      </script>\n",
       "    </div>\n",
       "  </div>\n",
       "  "
      ],
      "text/plain": [
       "    Destination Port   Flow Duration   Total Fwd Packets  \\\n",
       "0                 88             640                   7   \n",
       "1                 88             900                   9   \n",
       "2                 88            1205                   7   \n",
       "3                 88             511                   7   \n",
       "4                 88             773                   9   \n",
       "\n",
       "    Total Backward Packets  Total Length of Fwd Packets  \\\n",
       "0                        4                          440   \n",
       "1                        4                          600   \n",
       "2                        4                         2776   \n",
       "3                        4                          452   \n",
       "4                        4                          612   \n",
       "\n",
       "    Total Length of Bwd Packets   Fwd Packet Length Max  \\\n",
       "0                           358                     220   \n",
       "1                          2944                     300   \n",
       "2                          2830                    1388   \n",
       "3                           370                     226   \n",
       "4                          2944                     306   \n",
       "\n",
       "    Fwd Packet Length Min   Fwd Packet Length Mean   Fwd Packet Length Std  \\\n",
       "0                       0                62.857143              107.349008   \n",
       "1                       0                66.666667              132.287566   \n",
       "2                       0               396.571429              677.274651   \n",
       "3                       0                64.571429              110.276708   \n",
       "4                       0                68.000000              134.933317   \n",
       "\n",
       "   ...   min_seg_size_forward  Active Mean   Active Std   Active Max  \\\n",
       "0  ...                     20          0.0          0.0            0   \n",
       "1  ...                     20          0.0          0.0            0   \n",
       "2  ...                     20          0.0          0.0            0   \n",
       "3  ...                     20          0.0          0.0            0   \n",
       "4  ...                     20          0.0          0.0            0   \n",
       "\n",
       "    Active Min  Idle Mean   Idle Std   Idle Max   Idle Min   Label  \n",
       "0            0        0.0        0.0          0          0  BENIGN  \n",
       "1            0        0.0        0.0          0          0  BENIGN  \n",
       "2            0        0.0        0.0          0          0  BENIGN  \n",
       "3            0        0.0        0.0          0          0  BENIGN  \n",
       "4            0        0.0        0.0          0          0  BENIGN  \n",
       "\n",
       "[5 rows x 77 columns]"
      ]
     },
     "execution_count": 33,
     "metadata": {},
     "output_type": "execute_result"
    }
   ],
   "source": [
    "data.replace([np.inf, -np.inf], np.nan, inplace = True)\n",
    "data = data.dropna(axis = \"columns\", how = \"any\")\n",
    "\n",
    "data.head()"
   ]
  },
  {
   "cell_type": "code",
   "execution_count": 34,
   "id": "75ada20f-89cb-466e-a3bc-3ba19f92ab4c",
   "metadata": {
    "colab": {
     "base_uri": "https://localhost:8080/"
    },
    "executionInfo": {
     "elapsed": 806,
     "status": "ok",
     "timestamp": 1669896309473,
     "user": {
      "displayName": "Prospero Aunuforo",
      "userId": "06502678527603390235"
     },
     "user_tz": -60
    },
    "id": "75ada20f-89cb-466e-a3bc-3ba19f92ab4c",
    "outputId": "200e9f36-d861-4903-9495-e9d9d439faaf"
   },
   "outputs": [
    {
     "name": "stdout",
     "output_type": "stream",
     "text": [
      "<class 'pandas.core.frame.DataFrame'>\n",
      "RangeIndex: 1849438 entries, 0 to 1849437\n",
      "Data columns (total 77 columns):\n",
      " #   Column                        Dtype  \n",
      "---  ------                        -----  \n",
      " 0    Destination Port             int64  \n",
      " 1    Flow Duration                int64  \n",
      " 2    Total Fwd Packets            int64  \n",
      " 3    Total Backward Packets       int64  \n",
      " 4   Total Length of Fwd Packets   int64  \n",
      " 5    Total Length of Bwd Packets  int64  \n",
      " 6    Fwd Packet Length Max        int64  \n",
      " 7    Fwd Packet Length Min        int64  \n",
      " 8    Fwd Packet Length Mean       float64\n",
      " 9    Fwd Packet Length Std        float64\n",
      " 10  Bwd Packet Length Max         int64  \n",
      " 11   Bwd Packet Length Min        int64  \n",
      " 12   Bwd Packet Length Mean       float64\n",
      " 13   Bwd Packet Length Std        float64\n",
      " 14   Flow IAT Mean                float64\n",
      " 15   Flow IAT Std                 float64\n",
      " 16   Flow IAT Max                 int64  \n",
      " 17   Flow IAT Min                 int64  \n",
      " 18  Fwd IAT Total                 int64  \n",
      " 19   Fwd IAT Mean                 float64\n",
      " 20   Fwd IAT Std                  float64\n",
      " 21   Fwd IAT Max                  int64  \n",
      " 22   Fwd IAT Min                  int64  \n",
      " 23  Bwd IAT Total                 int64  \n",
      " 24   Bwd IAT Mean                 float64\n",
      " 25   Bwd IAT Std                  float64\n",
      " 26   Bwd IAT Max                  int64  \n",
      " 27   Bwd IAT Min                  int64  \n",
      " 28  Fwd PSH Flags                 int64  \n",
      " 29   Bwd PSH Flags                int64  \n",
      " 30   Fwd URG Flags                int64  \n",
      " 31   Bwd URG Flags                int64  \n",
      " 32   Fwd Header Length            int64  \n",
      " 33   Bwd Header Length            int64  \n",
      " 34  Fwd Packets/s                 float64\n",
      " 35   Bwd Packets/s                float64\n",
      " 36   Min Packet Length            int64  \n",
      " 37   Max Packet Length            int64  \n",
      " 38   Packet Length Mean           float64\n",
      " 39   Packet Length Std            float64\n",
      " 40   Packet Length Variance       float64\n",
      " 41  FIN Flag Count                int64  \n",
      " 42   SYN Flag Count               int64  \n",
      " 43   RST Flag Count               int64  \n",
      " 44   PSH Flag Count               int64  \n",
      " 45   ACK Flag Count               int64  \n",
      " 46   URG Flag Count               int64  \n",
      " 47   CWE Flag Count               int64  \n",
      " 48   ECE Flag Count               int64  \n",
      " 49   Down/Up Ratio                int64  \n",
      " 50   Average Packet Size          float64\n",
      " 51   Avg Fwd Segment Size         float64\n",
      " 52   Avg Bwd Segment Size         float64\n",
      " 53   Fwd Header Length.1          int64  \n",
      " 54  Fwd Avg Bytes/Bulk            int64  \n",
      " 55   Fwd Avg Packets/Bulk         int64  \n",
      " 56   Fwd Avg Bulk Rate            int64  \n",
      " 57   Bwd Avg Bytes/Bulk           int64  \n",
      " 58   Bwd Avg Packets/Bulk         int64  \n",
      " 59  Bwd Avg Bulk Rate             int64  \n",
      " 60  Subflow Fwd Packets           int64  \n",
      " 61   Subflow Fwd Bytes            int64  \n",
      " 62   Subflow Bwd Packets          int64  \n",
      " 63   Subflow Bwd Bytes            int64  \n",
      " 64  Init_Win_bytes_forward        int64  \n",
      " 65   Init_Win_bytes_backward      int64  \n",
      " 66   act_data_pkt_fwd             int64  \n",
      " 67   min_seg_size_forward         int64  \n",
      " 68  Active Mean                   float64\n",
      " 69   Active Std                   float64\n",
      " 70   Active Max                   int64  \n",
      " 71   Active Min                   int64  \n",
      " 72  Idle Mean                     float64\n",
      " 73   Idle Std                     float64\n",
      " 74   Idle Max                     int64  \n",
      " 75   Idle Min                     int64  \n",
      " 76   Label                        object \n",
      "dtypes: float64(22), int64(54), object(1)\n",
      "memory usage: 1.1+ GB\n"
     ]
    }
   ],
   "source": [
    "data.info()"
   ]
  },
  {
   "cell_type": "code",
   "execution_count": 35,
   "id": "08d30bde-42d1-43ce-8423-e0674fbc96d3",
   "metadata": {
    "colab": {
     "base_uri": "https://localhost:8080/"
    },
    "executionInfo": {
     "elapsed": 6,
     "status": "ok",
     "timestamp": 1669896312366,
     "user": {
      "displayName": "Prospero Aunuforo",
      "userId": "06502678527603390235"
     },
     "user_tz": -60
    },
    "id": "08d30bde-42d1-43ce-8423-e0674fbc96d3",
    "outputId": "48a31bb4-587e-490c-f7cd-070002185a9f"
   },
   "outputs": [
    {
     "data": {
      "text/plain": [
       "Index([' Destination Port', ' Flow Duration', ' Total Fwd Packets',\n",
       "       ' Total Backward Packets', 'Total Length of Fwd Packets',\n",
       "       ' Total Length of Bwd Packets', ' Fwd Packet Length Max',\n",
       "       ' Fwd Packet Length Min', ' Fwd Packet Length Mean',\n",
       "       ' Fwd Packet Length Std', 'Bwd Packet Length Max',\n",
       "       ' Bwd Packet Length Min', ' Bwd Packet Length Mean',\n",
       "       ' Bwd Packet Length Std', ' Flow IAT Mean', ' Flow IAT Std',\n",
       "       ' Flow IAT Max', ' Flow IAT Min', 'Fwd IAT Total', ' Fwd IAT Mean',\n",
       "       ' Fwd IAT Std', ' Fwd IAT Max', ' Fwd IAT Min', 'Bwd IAT Total',\n",
       "       ' Bwd IAT Mean', ' Bwd IAT Std', ' Bwd IAT Max', ' Bwd IAT Min',\n",
       "       'Fwd PSH Flags', ' Bwd PSH Flags', ' Fwd URG Flags', ' Bwd URG Flags',\n",
       "       ' Fwd Header Length', ' Bwd Header Length', 'Fwd Packets/s',\n",
       "       ' Bwd Packets/s', ' Min Packet Length', ' Max Packet Length',\n",
       "       ' Packet Length Mean', ' Packet Length Std', ' Packet Length Variance',\n",
       "       'FIN Flag Count', ' SYN Flag Count', ' RST Flag Count',\n",
       "       ' PSH Flag Count', ' ACK Flag Count', ' URG Flag Count',\n",
       "       ' CWE Flag Count', ' ECE Flag Count', ' Down/Up Ratio',\n",
       "       ' Average Packet Size', ' Avg Fwd Segment Size',\n",
       "       ' Avg Bwd Segment Size', ' Fwd Header Length.1', 'Fwd Avg Bytes/Bulk',\n",
       "       ' Fwd Avg Packets/Bulk', ' Fwd Avg Bulk Rate', ' Bwd Avg Bytes/Bulk',\n",
       "       ' Bwd Avg Packets/Bulk', 'Bwd Avg Bulk Rate', 'Subflow Fwd Packets',\n",
       "       ' Subflow Fwd Bytes', ' Subflow Bwd Packets', ' Subflow Bwd Bytes',\n",
       "       'Init_Win_bytes_forward', ' Init_Win_bytes_backward',\n",
       "       ' act_data_pkt_fwd', ' min_seg_size_forward', 'Active Mean',\n",
       "       ' Active Std', ' Active Max', ' Active Min', 'Idle Mean', ' Idle Std',\n",
       "       ' Idle Max', ' Idle Min', ' Label'],\n",
       "      dtype='object')"
      ]
     },
     "execution_count": 35,
     "metadata": {},
     "output_type": "execute_result"
    }
   ],
   "source": [
    "data.columns"
   ]
  },
  {
   "cell_type": "code",
   "execution_count": 36,
   "id": "d9LLUPtMjtbD",
   "metadata": {
    "colab": {
     "base_uri": "https://localhost:8080/"
    },
    "executionInfo": {
     "elapsed": 24452,
     "status": "ok",
     "timestamp": 1669896340222,
     "user": {
      "displayName": "Prospero Aunuforo",
      "userId": "06502678527603390235"
     },
     "user_tz": -60
    },
    "id": "d9LLUPtMjtbD",
    "outputId": "0cb4b6fc-77e0-48eb-df59-22cf988c23e5"
   },
   "outputs": [
    {
     "data": {
      "text/plain": [
       "array(['BENIGN', 'FTP-Patator', 'SSH-Patator', 'DDoS', 'PortScan', 'Bot',\n",
       "       'Web Attack � Brute Force', 'Web Attack � XSS',\n",
       "       'Web Attack � Sql Injection'], dtype=object)"
      ]
     },
     "execution_count": 36,
     "metadata": {},
     "output_type": "execute_result"
    }
   ],
   "source": [
    "data[' Label'].unique()"
   ]
  },
  {
   "cell_type": "markdown",
   "id": "7fee47a4-9195-415f-9907-d9e3a8679570",
   "metadata": {
    "id": "7fee47a4-9195-415f-9907-d9e3a8679570"
   },
   "source": [
    "* Removng unicode characters from the *'Label'* column\n",
    "* Unify sub-classes under the various types of *attacks*"
   ]
  },
  {
   "cell_type": "code",
   "execution_count": 37,
   "id": "fdb186bb-dcef-44a1-9671-2a76a5eed02c",
   "metadata": {
    "colab": {
     "base_uri": "https://localhost:8080/"
    },
    "executionInfo": {
     "elapsed": 23,
     "status": "ok",
     "timestamp": 1669896342279,
     "user": {
      "displayName": "Prospero Aunuforo",
      "userId": "06502678527603390235"
     },
     "user_tz": -60
    },
    "id": "fdb186bb-dcef-44a1-9671-2a76a5eed02c",
    "outputId": "1a7c9921-d36f-40eb-85a2-2fda938ab9b4"
   },
   "outputs": [
    {
     "data": {
      "text/plain": [
       "BENIGN        1544500\n",
       "PortScan       158930\n",
       "DDoS           128027\n",
       "Patator         13835\n",
       "Web Attack       2180\n",
       "Bot              1966\n",
       "Name:  Label, dtype: int64"
      ]
     },
     "execution_count": 37,
     "metadata": {},
     "output_type": "execute_result"
    }
   ],
   "source": [
    "data[' Label'] = data[' Label'].str.encode('ascii', 'ignore').str.decode('ascii').replace({\n",
    "    'Web Attack  Brute Force': 'Web Attack', \n",
    "    'Web Attack  XSS': 'Web Attack', \n",
    "    'Web Attack  Sql Injection': 'Web Attack',\n",
    "    'FTP-Patator': 'Patator',\n",
    "    'SSH-Patator': 'Patator',\n",
    "  })\n",
    "data[' Label'].value_counts()"
   ]
  },
  {
   "cell_type": "markdown",
   "id": "6783d485-e7c0-4342-9cc6-914b1fa42f1f",
   "metadata": {
    "id": "6783d485-e7c0-4342-9cc6-914b1fa42f1f"
   },
   "source": [
    "* Dropping the 'Label' column\n",
    "* Scaling feature vector\n",
    "* Handling categorical data\n",
    "* Splitting the dataset"
   ]
  },
  {
   "cell_type": "code",
   "execution_count": 38,
   "id": "8b5a41de-1595-44fa-8032-1f772ff3804b",
   "metadata": {
    "executionInfo": {
     "elapsed": 17,
     "status": "ok",
     "timestamp": 1669896343001,
     "user": {
      "displayName": "Prospero Aunuforo",
      "userId": "06502678527603390235"
     },
     "user_tz": -60
    },
    "id": "8b5a41de-1595-44fa-8032-1f772ff3804b"
   },
   "outputs": [],
   "source": [
    "y = data[' Label']\n",
    "X = data.drop([' Label'], axis = 1)"
   ]
  },
  {
   "cell_type": "code",
   "execution_count": 39,
   "id": "4RGpBpqnHWxf",
   "metadata": {
    "executionInfo": {
     "elapsed": 15,
     "status": "ok",
     "timestamp": 1669896343004,
     "user": {
      "displayName": "Prospero Aunuforo",
      "userId": "06502678527603390235"
     },
     "user_tz": -60
    },
    "id": "4RGpBpqnHWxf"
   },
   "outputs": [],
   "source": [
    "x_labels = X.columns"
   ]
  },
  {
   "cell_type": "code",
   "execution_count": 40,
   "id": "4Gi_1HvUOSue",
   "metadata": {
    "colab": {
     "base_uri": "https://localhost:8080/",
     "height": 540
    },
    "executionInfo": {
     "elapsed": 2797,
     "status": "ok",
     "timestamp": 1669896345788,
     "user": {
      "displayName": "Prospero Aunuforo",
      "userId": "06502678527603390235"
     },
     "user_tz": -60
    },
    "id": "4Gi_1HvUOSue",
    "outputId": "fad47b39-82b3-4ca5-b46e-db4a1708b0ec"
   },
   "outputs": [
    {
     "data": {
      "text/html": [
       "\n",
       "  <div id=\"df-f2197d3f-9e98-4bc8-b51d-8259a70bfaa8\">\n",
       "    <div class=\"colab-df-container\">\n",
       "      <div>\n",
       "<style scoped>\n",
       "    .dataframe tbody tr th:only-of-type {\n",
       "        vertical-align: middle;\n",
       "    }\n",
       "\n",
       "    .dataframe tbody tr th {\n",
       "        vertical-align: top;\n",
       "    }\n",
       "\n",
       "    .dataframe thead th {\n",
       "        text-align: right;\n",
       "    }\n",
       "</style>\n",
       "<table border=\"1\" class=\"dataframe\">\n",
       "  <thead>\n",
       "    <tr style=\"text-align: right;\">\n",
       "      <th></th>\n",
       "      <th>Destination Port</th>\n",
       "      <th>Flow Duration</th>\n",
       "      <th>Total Fwd Packets</th>\n",
       "      <th>Total Backward Packets</th>\n",
       "      <th>Total Length of Fwd Packets</th>\n",
       "      <th>Total Length of Bwd Packets</th>\n",
       "      <th>Fwd Packet Length Max</th>\n",
       "      <th>Fwd Packet Length Min</th>\n",
       "      <th>Fwd Packet Length Mean</th>\n",
       "      <th>Fwd Packet Length Std</th>\n",
       "      <th>...</th>\n",
       "      <th>act_data_pkt_fwd</th>\n",
       "      <th>min_seg_size_forward</th>\n",
       "      <th>Active Mean</th>\n",
       "      <th>Active Std</th>\n",
       "      <th>Active Max</th>\n",
       "      <th>Active Min</th>\n",
       "      <th>Idle Mean</th>\n",
       "      <th>Idle Std</th>\n",
       "      <th>Idle Max</th>\n",
       "      <th>Idle Min</th>\n",
       "    </tr>\n",
       "  </thead>\n",
       "  <tbody>\n",
       "    <tr>\n",
       "      <th>0</th>\n",
       "      <td>0.001343</td>\n",
       "      <td>5.441666e-06</td>\n",
       "      <td>0.000027</td>\n",
       "      <td>0.000014</td>\n",
       "      <td>0.000181</td>\n",
       "      <td>5.461871e-07</td>\n",
       "      <td>0.008864</td>\n",
       "      <td>0.000000</td>\n",
       "      <td>0.010580</td>\n",
       "      <td>0.015065</td>\n",
       "      <td>...</td>\n",
       "      <td>0.000009</td>\n",
       "      <td>1.0</td>\n",
       "      <td>0.0</td>\n",
       "      <td>0.0</td>\n",
       "      <td>0.0</td>\n",
       "      <td>0.0</td>\n",
       "      <td>0.0</td>\n",
       "      <td>0.0</td>\n",
       "      <td>0.0</td>\n",
       "      <td>0.0</td>\n",
       "    </tr>\n",
       "    <tr>\n",
       "      <th>1</th>\n",
       "      <td>0.001343</td>\n",
       "      <td>7.608333e-06</td>\n",
       "      <td>0.000036</td>\n",
       "      <td>0.000014</td>\n",
       "      <td>0.000247</td>\n",
       "      <td>4.491550e-06</td>\n",
       "      <td>0.012087</td>\n",
       "      <td>0.000000</td>\n",
       "      <td>0.011222</td>\n",
       "      <td>0.018565</td>\n",
       "      <td>...</td>\n",
       "      <td>0.000009</td>\n",
       "      <td>1.0</td>\n",
       "      <td>0.0</td>\n",
       "      <td>0.0</td>\n",
       "      <td>0.0</td>\n",
       "      <td>0.0</td>\n",
       "      <td>0.0</td>\n",
       "      <td>0.0</td>\n",
       "      <td>0.0</td>\n",
       "      <td>0.0</td>\n",
       "    </tr>\n",
       "    <tr>\n",
       "      <th>2</th>\n",
       "      <td>0.001343</td>\n",
       "      <td>1.015000e-05</td>\n",
       "      <td>0.000027</td>\n",
       "      <td>0.000014</td>\n",
       "      <td>0.001143</td>\n",
       "      <td>4.317624e-06</td>\n",
       "      <td>0.055923</td>\n",
       "      <td>0.000000</td>\n",
       "      <td>0.066753</td>\n",
       "      <td>0.095048</td>\n",
       "      <td>...</td>\n",
       "      <td>0.000009</td>\n",
       "      <td>1.0</td>\n",
       "      <td>0.0</td>\n",
       "      <td>0.0</td>\n",
       "      <td>0.0</td>\n",
       "      <td>0.0</td>\n",
       "      <td>0.0</td>\n",
       "      <td>0.0</td>\n",
       "      <td>0.0</td>\n",
       "      <td>0.0</td>\n",
       "    </tr>\n",
       "    <tr>\n",
       "      <th>3</th>\n",
       "      <td>0.001343</td>\n",
       "      <td>4.366666e-06</td>\n",
       "      <td>0.000027</td>\n",
       "      <td>0.000014</td>\n",
       "      <td>0.000186</td>\n",
       "      <td>5.644951e-07</td>\n",
       "      <td>0.009106</td>\n",
       "      <td>0.000000</td>\n",
       "      <td>0.010869</td>\n",
       "      <td>0.015476</td>\n",
       "      <td>...</td>\n",
       "      <td>0.000009</td>\n",
       "      <td>1.0</td>\n",
       "      <td>0.0</td>\n",
       "      <td>0.0</td>\n",
       "      <td>0.0</td>\n",
       "      <td>0.0</td>\n",
       "      <td>0.0</td>\n",
       "      <td>0.0</td>\n",
       "      <td>0.0</td>\n",
       "      <td>0.0</td>\n",
       "    </tr>\n",
       "    <tr>\n",
       "      <th>4</th>\n",
       "      <td>0.001343</td>\n",
       "      <td>6.550000e-06</td>\n",
       "      <td>0.000036</td>\n",
       "      <td>0.000014</td>\n",
       "      <td>0.000252</td>\n",
       "      <td>4.491550e-06</td>\n",
       "      <td>0.012329</td>\n",
       "      <td>0.000000</td>\n",
       "      <td>0.011446</td>\n",
       "      <td>0.018936</td>\n",
       "      <td>...</td>\n",
       "      <td>0.000009</td>\n",
       "      <td>1.0</td>\n",
       "      <td>0.0</td>\n",
       "      <td>0.0</td>\n",
       "      <td>0.0</td>\n",
       "      <td>0.0</td>\n",
       "      <td>0.0</td>\n",
       "      <td>0.0</td>\n",
       "      <td>0.0</td>\n",
       "      <td>0.0</td>\n",
       "    </tr>\n",
       "    <tr>\n",
       "      <th>...</th>\n",
       "      <td>...</td>\n",
       "      <td>...</td>\n",
       "      <td>...</td>\n",
       "      <td>...</td>\n",
       "      <td>...</td>\n",
       "      <td>...</td>\n",
       "      <td>...</td>\n",
       "      <td>...</td>\n",
       "      <td>...</td>\n",
       "      <td>...</td>\n",
       "      <td>...</td>\n",
       "      <td>...</td>\n",
       "      <td>...</td>\n",
       "      <td>...</td>\n",
       "      <td>...</td>\n",
       "      <td>...</td>\n",
       "      <td>...</td>\n",
       "      <td>...</td>\n",
       "      <td>...</td>\n",
       "      <td>...</td>\n",
       "      <td>...</td>\n",
       "    </tr>\n",
       "    <tr>\n",
       "      <th>1849433</th>\n",
       "      <td>0.849027</td>\n",
       "      <td>5.166666e-07</td>\n",
       "      <td>0.000000</td>\n",
       "      <td>0.000010</td>\n",
       "      <td>0.000002</td>\n",
       "      <td>2.746192e-08</td>\n",
       "      <td>0.000242</td>\n",
       "      <td>0.002581</td>\n",
       "      <td>0.001010</td>\n",
       "      <td>0.000000</td>\n",
       "      <td>...</td>\n",
       "      <td>0.000000</td>\n",
       "      <td>1.0</td>\n",
       "      <td>0.0</td>\n",
       "      <td>0.0</td>\n",
       "      <td>0.0</td>\n",
       "      <td>0.0</td>\n",
       "      <td>0.0</td>\n",
       "      <td>0.0</td>\n",
       "      <td>0.0</td>\n",
       "      <td>0.0</td>\n",
       "    </tr>\n",
       "    <tr>\n",
       "      <th>1849434</th>\n",
       "      <td>0.691798</td>\n",
       "      <td>1.916667e-06</td>\n",
       "      <td>0.000005</td>\n",
       "      <td>0.000003</td>\n",
       "      <td>0.000013</td>\n",
       "      <td>9.153974e-09</td>\n",
       "      <td>0.001249</td>\n",
       "      <td>0.000000</td>\n",
       "      <td>0.002609</td>\n",
       "      <td>0.003076</td>\n",
       "      <td>...</td>\n",
       "      <td>0.000000</td>\n",
       "      <td>1.0</td>\n",
       "      <td>0.0</td>\n",
       "      <td>0.0</td>\n",
       "      <td>0.0</td>\n",
       "      <td>0.0</td>\n",
       "      <td>0.0</td>\n",
       "      <td>0.0</td>\n",
       "      <td>0.0</td>\n",
       "      <td>0.0</td>\n",
       "    </tr>\n",
       "    <tr>\n",
       "      <th>1849435</th>\n",
       "      <td>0.000336</td>\n",
       "      <td>1.156300e-02</td>\n",
       "      <td>0.000182</td>\n",
       "      <td>0.000158</td>\n",
       "      <td>0.001123</td>\n",
       "      <td>1.012124e-05</td>\n",
       "      <td>0.018372</td>\n",
       "      <td>0.000000</td>\n",
       "      <td>0.011200</td>\n",
       "      <td>0.015456</td>\n",
       "      <td>...</td>\n",
       "      <td>0.000112</td>\n",
       "      <td>1.0</td>\n",
       "      <td>0.0</td>\n",
       "      <td>0.0</td>\n",
       "      <td>0.0</td>\n",
       "      <td>0.0</td>\n",
       "      <td>0.0</td>\n",
       "      <td>0.0</td>\n",
       "      <td>0.0</td>\n",
       "      <td>0.0</td>\n",
       "    </tr>\n",
       "    <tr>\n",
       "      <th>1849436</th>\n",
       "      <td>0.000336</td>\n",
       "      <td>1.833333e-06</td>\n",
       "      <td>0.000000</td>\n",
       "      <td>0.000003</td>\n",
       "      <td>0.000000</td>\n",
       "      <td>0.000000e+00</td>\n",
       "      <td>0.000000</td>\n",
       "      <td>0.000000</td>\n",
       "      <td>0.000000</td>\n",
       "      <td>0.000000</td>\n",
       "      <td>...</td>\n",
       "      <td>0.000000</td>\n",
       "      <td>1.0</td>\n",
       "      <td>0.0</td>\n",
       "      <td>0.0</td>\n",
       "      <td>0.0</td>\n",
       "      <td>0.0</td>\n",
       "      <td>0.0</td>\n",
       "      <td>0.0</td>\n",
       "      <td>0.0</td>\n",
       "      <td>0.0</td>\n",
       "    </tr>\n",
       "    <tr>\n",
       "      <th>1849437</th>\n",
       "      <td>0.917769</td>\n",
       "      <td>5.250000e-07</td>\n",
       "      <td>0.000000</td>\n",
       "      <td>0.000007</td>\n",
       "      <td>0.000000</td>\n",
       "      <td>0.000000e+00</td>\n",
       "      <td>0.000000</td>\n",
       "      <td>0.000000</td>\n",
       "      <td>0.000000</td>\n",
       "      <td>0.000000</td>\n",
       "      <td>...</td>\n",
       "      <td>0.000000</td>\n",
       "      <td>1.0</td>\n",
       "      <td>0.0</td>\n",
       "      <td>0.0</td>\n",
       "      <td>0.0</td>\n",
       "      <td>0.0</td>\n",
       "      <td>0.0</td>\n",
       "      <td>0.0</td>\n",
       "      <td>0.0</td>\n",
       "      <td>0.0</td>\n",
       "    </tr>\n",
       "  </tbody>\n",
       "</table>\n",
       "<p>1849438 rows × 76 columns</p>\n",
       "</div>\n",
       "      <button class=\"colab-df-convert\" onclick=\"convertToInteractive('df-f2197d3f-9e98-4bc8-b51d-8259a70bfaa8')\"\n",
       "              title=\"Convert this dataframe to an interactive table.\"\n",
       "              style=\"display:none;\">\n",
       "        \n",
       "  <svg xmlns=\"http://www.w3.org/2000/svg\" height=\"24px\"viewBox=\"0 0 24 24\"\n",
       "       width=\"24px\">\n",
       "    <path d=\"M0 0h24v24H0V0z\" fill=\"none\"/>\n",
       "    <path d=\"M18.56 5.44l.94 2.06.94-2.06 2.06-.94-2.06-.94-.94-2.06-.94 2.06-2.06.94zm-11 1L8.5 8.5l.94-2.06 2.06-.94-2.06-.94L8.5 2.5l-.94 2.06-2.06.94zm10 10l.94 2.06.94-2.06 2.06-.94-2.06-.94-.94-2.06-.94 2.06-2.06.94z\"/><path d=\"M17.41 7.96l-1.37-1.37c-.4-.4-.92-.59-1.43-.59-.52 0-1.04.2-1.43.59L10.3 9.45l-7.72 7.72c-.78.78-.78 2.05 0 2.83L4 21.41c.39.39.9.59 1.41.59.51 0 1.02-.2 1.41-.59l7.78-7.78 2.81-2.81c.8-.78.8-2.07 0-2.86zM5.41 20L4 18.59l7.72-7.72 1.47 1.35L5.41 20z\"/>\n",
       "  </svg>\n",
       "      </button>\n",
       "      \n",
       "  <style>\n",
       "    .colab-df-container {\n",
       "      display:flex;\n",
       "      flex-wrap:wrap;\n",
       "      gap: 12px;\n",
       "    }\n",
       "\n",
       "    .colab-df-convert {\n",
       "      background-color: #E8F0FE;\n",
       "      border: none;\n",
       "      border-radius: 50%;\n",
       "      cursor: pointer;\n",
       "      display: none;\n",
       "      fill: #1967D2;\n",
       "      height: 32px;\n",
       "      padding: 0 0 0 0;\n",
       "      width: 32px;\n",
       "    }\n",
       "\n",
       "    .colab-df-convert:hover {\n",
       "      background-color: #E2EBFA;\n",
       "      box-shadow: 0px 1px 2px rgba(60, 64, 67, 0.3), 0px 1px 3px 1px rgba(60, 64, 67, 0.15);\n",
       "      fill: #174EA6;\n",
       "    }\n",
       "\n",
       "    [theme=dark] .colab-df-convert {\n",
       "      background-color: #3B4455;\n",
       "      fill: #D2E3FC;\n",
       "    }\n",
       "\n",
       "    [theme=dark] .colab-df-convert:hover {\n",
       "      background-color: #434B5C;\n",
       "      box-shadow: 0px 1px 3px 1px rgba(0, 0, 0, 0.15);\n",
       "      filter: drop-shadow(0px 1px 2px rgba(0, 0, 0, 0.3));\n",
       "      fill: #FFFFFF;\n",
       "    }\n",
       "  </style>\n",
       "\n",
       "      <script>\n",
       "        const buttonEl =\n",
       "          document.querySelector('#df-f2197d3f-9e98-4bc8-b51d-8259a70bfaa8 button.colab-df-convert');\n",
       "        buttonEl.style.display =\n",
       "          google.colab.kernel.accessAllowed ? 'block' : 'none';\n",
       "\n",
       "        async function convertToInteractive(key) {\n",
       "          const element = document.querySelector('#df-f2197d3f-9e98-4bc8-b51d-8259a70bfaa8');\n",
       "          const dataTable =\n",
       "            await google.colab.kernel.invokeFunction('convertToInteractive',\n",
       "                                                     [key], {});\n",
       "          if (!dataTable) return;\n",
       "\n",
       "          const docLinkHtml = 'Like what you see? Visit the ' +\n",
       "            '<a target=\"_blank\" href=https://colab.research.google.com/notebooks/data_table.ipynb>data table notebook</a>'\n",
       "            + ' to learn more about interactive tables.';\n",
       "          element.innerHTML = '';\n",
       "          dataTable['output_type'] = 'display_data';\n",
       "          await google.colab.output.renderOutput(dataTable, element);\n",
       "          const docLink = document.createElement('div');\n",
       "          docLink.innerHTML = docLinkHtml;\n",
       "          element.appendChild(docLink);\n",
       "        }\n",
       "      </script>\n",
       "    </div>\n",
       "  </div>\n",
       "  "
      ],
      "text/plain": [
       "          Destination Port   Flow Duration   Total Fwd Packets  \\\n",
       "0                 0.001343    5.441666e-06            0.000027   \n",
       "1                 0.001343    7.608333e-06            0.000036   \n",
       "2                 0.001343    1.015000e-05            0.000027   \n",
       "3                 0.001343    4.366666e-06            0.000027   \n",
       "4                 0.001343    6.550000e-06            0.000036   \n",
       "...                    ...             ...                 ...   \n",
       "1849433           0.849027    5.166666e-07            0.000000   \n",
       "1849434           0.691798    1.916667e-06            0.000005   \n",
       "1849435           0.000336    1.156300e-02            0.000182   \n",
       "1849436           0.000336    1.833333e-06            0.000000   \n",
       "1849437           0.917769    5.250000e-07            0.000000   \n",
       "\n",
       "          Total Backward Packets  Total Length of Fwd Packets  \\\n",
       "0                       0.000014                     0.000181   \n",
       "1                       0.000014                     0.000247   \n",
       "2                       0.000014                     0.001143   \n",
       "3                       0.000014                     0.000186   \n",
       "4                       0.000014                     0.000252   \n",
       "...                          ...                          ...   \n",
       "1849433                 0.000010                     0.000002   \n",
       "1849434                 0.000003                     0.000013   \n",
       "1849435                 0.000158                     0.001123   \n",
       "1849436                 0.000003                     0.000000   \n",
       "1849437                 0.000007                     0.000000   \n",
       "\n",
       "          Total Length of Bwd Packets   Fwd Packet Length Max  \\\n",
       "0                        5.461871e-07                0.008864   \n",
       "1                        4.491550e-06                0.012087   \n",
       "2                        4.317624e-06                0.055923   \n",
       "3                        5.644951e-07                0.009106   \n",
       "4                        4.491550e-06                0.012329   \n",
       "...                               ...                     ...   \n",
       "1849433                  2.746192e-08                0.000242   \n",
       "1849434                  9.153974e-09                0.001249   \n",
       "1849435                  1.012124e-05                0.018372   \n",
       "1849436                  0.000000e+00                0.000000   \n",
       "1849437                  0.000000e+00                0.000000   \n",
       "\n",
       "          Fwd Packet Length Min   Fwd Packet Length Mean  \\\n",
       "0                      0.000000                 0.010580   \n",
       "1                      0.000000                 0.011222   \n",
       "2                      0.000000                 0.066753   \n",
       "3                      0.000000                 0.010869   \n",
       "4                      0.000000                 0.011446   \n",
       "...                         ...                      ...   \n",
       "1849433                0.002581                 0.001010   \n",
       "1849434                0.000000                 0.002609   \n",
       "1849435                0.000000                 0.011200   \n",
       "1849436                0.000000                 0.000000   \n",
       "1849437                0.000000                 0.000000   \n",
       "\n",
       "          Fwd Packet Length Std  ...   act_data_pkt_fwd  \\\n",
       "0                      0.015065  ...           0.000009   \n",
       "1                      0.018565  ...           0.000009   \n",
       "2                      0.095048  ...           0.000009   \n",
       "3                      0.015476  ...           0.000009   \n",
       "4                      0.018936  ...           0.000009   \n",
       "...                         ...  ...                ...   \n",
       "1849433                0.000000  ...           0.000000   \n",
       "1849434                0.003076  ...           0.000000   \n",
       "1849435                0.015456  ...           0.000112   \n",
       "1849436                0.000000  ...           0.000000   \n",
       "1849437                0.000000  ...           0.000000   \n",
       "\n",
       "          min_seg_size_forward  Active Mean   Active Std   Active Max  \\\n",
       "0                          1.0          0.0          0.0          0.0   \n",
       "1                          1.0          0.0          0.0          0.0   \n",
       "2                          1.0          0.0          0.0          0.0   \n",
       "3                          1.0          0.0          0.0          0.0   \n",
       "4                          1.0          0.0          0.0          0.0   \n",
       "...                        ...          ...          ...          ...   \n",
       "1849433                    1.0          0.0          0.0          0.0   \n",
       "1849434                    1.0          0.0          0.0          0.0   \n",
       "1849435                    1.0          0.0          0.0          0.0   \n",
       "1849436                    1.0          0.0          0.0          0.0   \n",
       "1849437                    1.0          0.0          0.0          0.0   \n",
       "\n",
       "          Active Min  Idle Mean   Idle Std   Idle Max   Idle Min  \n",
       "0                0.0        0.0        0.0        0.0        0.0  \n",
       "1                0.0        0.0        0.0        0.0        0.0  \n",
       "2                0.0        0.0        0.0        0.0        0.0  \n",
       "3                0.0        0.0        0.0        0.0        0.0  \n",
       "4                0.0        0.0        0.0        0.0        0.0  \n",
       "...              ...        ...        ...        ...        ...  \n",
       "1849433          0.0        0.0        0.0        0.0        0.0  \n",
       "1849434          0.0        0.0        0.0        0.0        0.0  \n",
       "1849435          0.0        0.0        0.0        0.0        0.0  \n",
       "1849436          0.0        0.0        0.0        0.0        0.0  \n",
       "1849437          0.0        0.0        0.0        0.0        0.0  \n",
       "\n",
       "[1849438 rows x 76 columns]"
      ]
     },
     "execution_count": 40,
     "metadata": {},
     "output_type": "execute_result"
    }
   ],
   "source": [
    "scaler = MinMaxScaler().fit(X)\n",
    "X = scaler.transform(X)\n",
    "X = pd.DataFrame(X, columns=x_labels)\n",
    "X"
   ]
  },
  {
   "cell_type": "code",
   "execution_count": 41,
   "id": "nkdZ4sL1H8is",
   "metadata": {
    "colab": {
     "base_uri": "https://localhost:8080/"
    },
    "executionInfo": {
     "elapsed": 16,
     "status": "ok",
     "timestamp": 1669896345790,
     "user": {
      "displayName": "Prospero Aunuforo",
      "userId": "06502678527603390235"
     },
     "user_tz": -60
    },
    "id": "nkdZ4sL1H8is",
    "outputId": "ebf9e1fd-8846-433d-c252-522d5734407e"
   },
   "outputs": [
    {
     "data": {
      "text/plain": [
       "((1849438, 76), (1849438,))"
      ]
     },
     "execution_count": 41,
     "metadata": {},
     "output_type": "execute_result"
    }
   ],
   "source": [
    "X.shape, y.shape"
   ]
  },
  {
   "cell_type": "code",
   "execution_count": 45,
   "id": "BwNwmpAaOTQP",
   "metadata": {
    "colab": {
     "base_uri": "https://localhost:8080/",
     "height": 352
    },
    "executionInfo": {
     "elapsed": 6128,
     "status": "ok",
     "timestamp": 1669896438848,
     "user": {
      "displayName": "Prospero Aunuforo",
      "userId": "06502678527603390235"
     },
     "user_tz": -60
    },
    "id": "BwNwmpAaOTQP",
    "outputId": "42e5c7fe-4ebb-416c-d901-9ac69ceeca8d"
   },
   "outputs": [
    {
     "data": {
      "text/html": [
       "\n",
       "  <div id=\"df-d0b61d26-7d97-4261-8c50-79d93e62492b\">\n",
       "    <div class=\"colab-df-container\">\n",
       "      <div>\n",
       "<style scoped>\n",
       "    .dataframe tbody tr th:only-of-type {\n",
       "        vertical-align: middle;\n",
       "    }\n",
       "\n",
       "    .dataframe tbody tr th {\n",
       "        vertical-align: top;\n",
       "    }\n",
       "\n",
       "    .dataframe thead th {\n",
       "        text-align: right;\n",
       "    }\n",
       "</style>\n",
       "<table border=\"1\" class=\"dataframe\">\n",
       "  <thead>\n",
       "    <tr style=\"text-align: right;\">\n",
       "      <th></th>\n",
       "      <th>Destination Port</th>\n",
       "      <th>Flow Duration</th>\n",
       "      <th>Total Fwd Packets</th>\n",
       "      <th>Total Backward Packets</th>\n",
       "      <th>Total Length of Fwd Packets</th>\n",
       "      <th>Total Length of Bwd Packets</th>\n",
       "      <th>Fwd Packet Length Max</th>\n",
       "      <th>Fwd Packet Length Min</th>\n",
       "      <th>Fwd Packet Length Mean</th>\n",
       "      <th>Fwd Packet Length Std</th>\n",
       "      <th>...</th>\n",
       "      <th>act_data_pkt_fwd</th>\n",
       "      <th>min_seg_size_forward</th>\n",
       "      <th>Active Mean</th>\n",
       "      <th>Active Std</th>\n",
       "      <th>Active Max</th>\n",
       "      <th>Active Min</th>\n",
       "      <th>Idle Mean</th>\n",
       "      <th>Idle Std</th>\n",
       "      <th>Idle Max</th>\n",
       "      <th>Idle Min</th>\n",
       "    </tr>\n",
       "  </thead>\n",
       "  <tbody>\n",
       "    <tr>\n",
       "      <th>1353201</th>\n",
       "      <td>0.000809</td>\n",
       "      <td>2.622917e-04</td>\n",
       "      <td>0.000005</td>\n",
       "      <td>0.000007</td>\n",
       "      <td>0.000026</td>\n",
       "      <td>2.685166e-07</td>\n",
       "      <td>0.001289</td>\n",
       "      <td>0.013763</td>\n",
       "      <td>0.005386</td>\n",
       "      <td>0.000000</td>\n",
       "      <td>...</td>\n",
       "      <td>0.000005</td>\n",
       "      <td>1.0</td>\n",
       "      <td>0.000000</td>\n",
       "      <td>0.00000</td>\n",
       "      <td>0.000000</td>\n",
       "      <td>0.000000</td>\n",
       "      <td>0.000000</td>\n",
       "      <td>0.00000</td>\n",
       "      <td>0.000000</td>\n",
       "      <td>0.000000</td>\n",
       "    </tr>\n",
       "    <tr>\n",
       "      <th>1694334</th>\n",
       "      <td>0.769314</td>\n",
       "      <td>3.083333e-07</td>\n",
       "      <td>0.000000</td>\n",
       "      <td>0.000003</td>\n",
       "      <td>0.000002</td>\n",
       "      <td>9.153974e-09</td>\n",
       "      <td>0.000242</td>\n",
       "      <td>0.002581</td>\n",
       "      <td>0.001010</td>\n",
       "      <td>0.000000</td>\n",
       "      <td>...</td>\n",
       "      <td>0.000000</td>\n",
       "      <td>1.0</td>\n",
       "      <td>0.000000</td>\n",
       "      <td>0.00000</td>\n",
       "      <td>0.000000</td>\n",
       "      <td>0.000000</td>\n",
       "      <td>0.000000</td>\n",
       "      <td>0.00000</td>\n",
       "      <td>0.000000</td>\n",
       "      <td>0.000000</td>\n",
       "    </tr>\n",
       "    <tr>\n",
       "      <th>1777875</th>\n",
       "      <td>0.006760</td>\n",
       "      <td>1.322041e-01</td>\n",
       "      <td>0.000046</td>\n",
       "      <td>0.000034</td>\n",
       "      <td>0.000510</td>\n",
       "      <td>1.038823e-05</td>\n",
       "      <td>0.035294</td>\n",
       "      <td>0.000000</td>\n",
       "      <td>0.018944</td>\n",
       "      <td>0.036645</td>\n",
       "      <td>...</td>\n",
       "      <td>0.000047</td>\n",
       "      <td>1.0</td>\n",
       "      <td>0.003232</td>\n",
       "      <td>0.00612</td>\n",
       "      <td>0.006006</td>\n",
       "      <td>0.000459</td>\n",
       "      <td>0.063138</td>\n",
       "      <td>0.04475</td>\n",
       "      <td>0.083333</td>\n",
       "      <td>0.042939</td>\n",
       "    </tr>\n",
       "    <tr>\n",
       "      <th>404455</th>\n",
       "      <td>0.006760</td>\n",
       "      <td>1.580583e-04</td>\n",
       "      <td>0.000000</td>\n",
       "      <td>0.000003</td>\n",
       "      <td>0.000000</td>\n",
       "      <td>0.000000e+00</td>\n",
       "      <td>0.000000</td>\n",
       "      <td>0.000000</td>\n",
       "      <td>0.000000</td>\n",
       "      <td>0.000000</td>\n",
       "      <td>...</td>\n",
       "      <td>0.000000</td>\n",
       "      <td>1.0</td>\n",
       "      <td>0.000000</td>\n",
       "      <td>0.00000</td>\n",
       "      <td>0.000000</td>\n",
       "      <td>0.000000</td>\n",
       "      <td>0.000000</td>\n",
       "      <td>0.00000</td>\n",
       "      <td>0.000000</td>\n",
       "      <td>0.000000</td>\n",
       "    </tr>\n",
       "    <tr>\n",
       "      <th>433838</th>\n",
       "      <td>0.000809</td>\n",
       "      <td>4.149750e-04</td>\n",
       "      <td>0.000000</td>\n",
       "      <td>0.000003</td>\n",
       "      <td>0.000022</td>\n",
       "      <td>1.251043e-07</td>\n",
       "      <td>0.002176</td>\n",
       "      <td>0.023226</td>\n",
       "      <td>0.009090</td>\n",
       "      <td>0.000000</td>\n",
       "      <td>...</td>\n",
       "      <td>0.000000</td>\n",
       "      <td>1.0</td>\n",
       "      <td>0.000000</td>\n",
       "      <td>0.00000</td>\n",
       "      <td>0.000000</td>\n",
       "      <td>0.000000</td>\n",
       "      <td>0.000000</td>\n",
       "      <td>0.00000</td>\n",
       "      <td>0.000000</td>\n",
       "      <td>0.000000</td>\n",
       "    </tr>\n",
       "  </tbody>\n",
       "</table>\n",
       "<p>5 rows × 76 columns</p>\n",
       "</div>\n",
       "      <button class=\"colab-df-convert\" onclick=\"convertToInteractive('df-d0b61d26-7d97-4261-8c50-79d93e62492b')\"\n",
       "              title=\"Convert this dataframe to an interactive table.\"\n",
       "              style=\"display:none;\">\n",
       "        \n",
       "  <svg xmlns=\"http://www.w3.org/2000/svg\" height=\"24px\"viewBox=\"0 0 24 24\"\n",
       "       width=\"24px\">\n",
       "    <path d=\"M0 0h24v24H0V0z\" fill=\"none\"/>\n",
       "    <path d=\"M18.56 5.44l.94 2.06.94-2.06 2.06-.94-2.06-.94-.94-2.06-.94 2.06-2.06.94zm-11 1L8.5 8.5l.94-2.06 2.06-.94-2.06-.94L8.5 2.5l-.94 2.06-2.06.94zm10 10l.94 2.06.94-2.06 2.06-.94-2.06-.94-.94-2.06-.94 2.06-2.06.94z\"/><path d=\"M17.41 7.96l-1.37-1.37c-.4-.4-.92-.59-1.43-.59-.52 0-1.04.2-1.43.59L10.3 9.45l-7.72 7.72c-.78.78-.78 2.05 0 2.83L4 21.41c.39.39.9.59 1.41.59.51 0 1.02-.2 1.41-.59l7.78-7.78 2.81-2.81c.8-.78.8-2.07 0-2.86zM5.41 20L4 18.59l7.72-7.72 1.47 1.35L5.41 20z\"/>\n",
       "  </svg>\n",
       "      </button>\n",
       "      \n",
       "  <style>\n",
       "    .colab-df-container {\n",
       "      display:flex;\n",
       "      flex-wrap:wrap;\n",
       "      gap: 12px;\n",
       "    }\n",
       "\n",
       "    .colab-df-convert {\n",
       "      background-color: #E8F0FE;\n",
       "      border: none;\n",
       "      border-radius: 50%;\n",
       "      cursor: pointer;\n",
       "      display: none;\n",
       "      fill: #1967D2;\n",
       "      height: 32px;\n",
       "      padding: 0 0 0 0;\n",
       "      width: 32px;\n",
       "    }\n",
       "\n",
       "    .colab-df-convert:hover {\n",
       "      background-color: #E2EBFA;\n",
       "      box-shadow: 0px 1px 2px rgba(60, 64, 67, 0.3), 0px 1px 3px 1px rgba(60, 64, 67, 0.15);\n",
       "      fill: #174EA6;\n",
       "    }\n",
       "\n",
       "    [theme=dark] .colab-df-convert {\n",
       "      background-color: #3B4455;\n",
       "      fill: #D2E3FC;\n",
       "    }\n",
       "\n",
       "    [theme=dark] .colab-df-convert:hover {\n",
       "      background-color: #434B5C;\n",
       "      box-shadow: 0px 1px 3px 1px rgba(0, 0, 0, 0.15);\n",
       "      filter: drop-shadow(0px 1px 2px rgba(0, 0, 0, 0.3));\n",
       "      fill: #FFFFFF;\n",
       "    }\n",
       "  </style>\n",
       "\n",
       "      <script>\n",
       "        const buttonEl =\n",
       "          document.querySelector('#df-d0b61d26-7d97-4261-8c50-79d93e62492b button.colab-df-convert');\n",
       "        buttonEl.style.display =\n",
       "          google.colab.kernel.accessAllowed ? 'block' : 'none';\n",
       "\n",
       "        async function convertToInteractive(key) {\n",
       "          const element = document.querySelector('#df-d0b61d26-7d97-4261-8c50-79d93e62492b');\n",
       "          const dataTable =\n",
       "            await google.colab.kernel.invokeFunction('convertToInteractive',\n",
       "                                                     [key], {});\n",
       "          if (!dataTable) return;\n",
       "\n",
       "          const docLinkHtml = 'Like what you see? Visit the ' +\n",
       "            '<a target=\"_blank\" href=https://colab.research.google.com/notebooks/data_table.ipynb>data table notebook</a>'\n",
       "            + ' to learn more about interactive tables.';\n",
       "          element.innerHTML = '';\n",
       "          dataTable['output_type'] = 'display_data';\n",
       "          await google.colab.output.renderOutput(dataTable, element);\n",
       "          const docLink = document.createElement('div');\n",
       "          docLink.innerHTML = docLinkHtml;\n",
       "          element.appendChild(docLink);\n",
       "        }\n",
       "      </script>\n",
       "    </div>\n",
       "  </div>\n",
       "  "
      ],
      "text/plain": [
       "          Destination Port   Flow Duration   Total Fwd Packets  \\\n",
       "1353201           0.000809    2.622917e-04            0.000005   \n",
       "1694334           0.769314    3.083333e-07            0.000000   \n",
       "1777875           0.006760    1.322041e-01            0.000046   \n",
       "404455            0.006760    1.580583e-04            0.000000   \n",
       "433838            0.000809    4.149750e-04            0.000000   \n",
       "\n",
       "          Total Backward Packets  Total Length of Fwd Packets  \\\n",
       "1353201                 0.000007                     0.000026   \n",
       "1694334                 0.000003                     0.000002   \n",
       "1777875                 0.000034                     0.000510   \n",
       "404455                  0.000003                     0.000000   \n",
       "433838                  0.000003                     0.000022   \n",
       "\n",
       "          Total Length of Bwd Packets   Fwd Packet Length Max  \\\n",
       "1353201                  2.685166e-07                0.001289   \n",
       "1694334                  9.153974e-09                0.000242   \n",
       "1777875                  1.038823e-05                0.035294   \n",
       "404455                   0.000000e+00                0.000000   \n",
       "433838                   1.251043e-07                0.002176   \n",
       "\n",
       "          Fwd Packet Length Min   Fwd Packet Length Mean  \\\n",
       "1353201                0.013763                 0.005386   \n",
       "1694334                0.002581                 0.001010   \n",
       "1777875                0.000000                 0.018944   \n",
       "404455                 0.000000                 0.000000   \n",
       "433838                 0.023226                 0.009090   \n",
       "\n",
       "          Fwd Packet Length Std  ...   act_data_pkt_fwd  \\\n",
       "1353201                0.000000  ...           0.000005   \n",
       "1694334                0.000000  ...           0.000000   \n",
       "1777875                0.036645  ...           0.000047   \n",
       "404455                 0.000000  ...           0.000000   \n",
       "433838                 0.000000  ...           0.000000   \n",
       "\n",
       "          min_seg_size_forward  Active Mean   Active Std   Active Max  \\\n",
       "1353201                    1.0     0.000000      0.00000     0.000000   \n",
       "1694334                    1.0     0.000000      0.00000     0.000000   \n",
       "1777875                    1.0     0.003232      0.00612     0.006006   \n",
       "404455                     1.0     0.000000      0.00000     0.000000   \n",
       "433838                     1.0     0.000000      0.00000     0.000000   \n",
       "\n",
       "          Active Min  Idle Mean   Idle Std   Idle Max   Idle Min  \n",
       "1353201     0.000000   0.000000    0.00000   0.000000   0.000000  \n",
       "1694334     0.000000   0.000000    0.00000   0.000000   0.000000  \n",
       "1777875     0.000459   0.063138    0.04475   0.083333   0.042939  \n",
       "404455      0.000000   0.000000    0.00000   0.000000   0.000000  \n",
       "433838      0.000000   0.000000    0.00000   0.000000   0.000000  \n",
       "\n",
       "[5 rows x 76 columns]"
      ]
     },
     "execution_count": 45,
     "metadata": {},
     "output_type": "execute_result"
    }
   ],
   "source": [
    "encoder = preprocessing.LabelEncoder()\n",
    "y_cat = encoder.fit_transform(y)\n",
    "\n",
    "X_train, X_test, y_train, y_test = train_test_split(X, y_cat, test_size = 0.20, random_state = 7)\n",
    "X_train.head()"
   ]
  },
  {
   "cell_type": "markdown",
   "id": "97ec9946-8ddf-4273-b3e5-77ac5bdf7f49",
   "metadata": {
    "id": "97ec9946-8ddf-4273-b3e5-77ac5bdf7f49"
   },
   "source": [
    "# Forest model"
   ]
  },
  {
   "cell_type": "code",
   "execution_count": null,
   "id": "83928ac7-240d-4e3e-b78b-f2e85f5b3f1c",
   "metadata": {
    "colab": {
     "base_uri": "https://localhost:8080/"
    },
    "executionInfo": {
     "elapsed": 854438,
     "status": "ok",
     "timestamp": 1669801950054,
     "user": {
      "displayName": "Prospero Aunuforo",
      "userId": "06502678527603390235"
     },
     "user_tz": -60
    },
    "id": "83928ac7-240d-4e3e-b78b-f2e85f5b3f1c",
    "outputId": "a398a89f-2fc2-446f-90fe-41bb27abd5e1"
   },
   "outputs": [
    {
     "data": {
      "text/plain": [
       "array([0, 0, 0, ..., 0, 0, 2])"
      ]
     },
     "execution_count": 14,
     "metadata": {},
     "output_type": "execute_result"
    }
   ],
   "source": [
    "ForestModel = RandomForestClassifier()\n",
    "ForestModel.fit(X_train, y_train)\n",
    "\n",
    "y_pred_forest_test = ForestModel.predict(X_test)\n",
    "y_pred_forest_test\n"
   ]
  },
  {
   "cell_type": "code",
   "execution_count": null,
   "id": "6d9585fb",
   "metadata": {
    "colab": {
     "base_uri": "https://localhost:8080/"
    },
    "executionInfo": {
     "elapsed": 1077,
     "status": "ok",
     "timestamp": 1669801993433,
     "user": {
      "displayName": "Prospero Aunuforo",
      "userId": "06502678527603390235"
     },
     "user_tz": -60
    },
    "id": "6d9585fb",
    "outputId": "af9327ed-59cd-469c-92b1-1cc013f7af81"
   },
   "outputs": [
    {
     "name": "stdout",
     "output_type": "stream",
     "text": [
      "Precision Score 0.9993538584652651\n",
      "Recall Score 0.9993538584652651\n",
      "F1 Score 0.9993538584652651\n"
     ]
    }
   ],
   "source": [
    "print('Precision Score', precision_score(y_test, y_pred_forest_test, average = 'micro'))\n",
    "print('Recall Score', recall_score(y_test, y_pred_forest_test, average = 'micro'))\n",
    "print('F1 Score', f1_score(y_test, y_pred_forest_test, average = 'micro'))"
   ]
  },
  {
   "cell_type": "code",
   "execution_count": null,
   "id": "2af66fc1-5003-4334-9583-a67b435546b1",
   "metadata": {
    "colab": {
     "base_uri": "https://localhost:8080/",
     "height": 297
    },
    "executionInfo": {
     "elapsed": 534,
     "status": "ok",
     "timestamp": 1669802020574,
     "user": {
      "displayName": "Prospero Aunuforo",
      "userId": "06502678527603390235"
     },
     "user_tz": -60
    },
    "id": "2af66fc1-5003-4334-9583-a67b435546b1",
    "outputId": "592ffdfb-625b-4841-8121-2dd3fed8a850"
   },
   "outputs": [
    {
     "data": {
      "text/plain": [
       "<sklearn.metrics._plot.confusion_matrix.ConfusionMatrixDisplay at 0x7f0702256d90>"
      ]
     },
     "execution_count": 19,
     "metadata": {},
     "output_type": "execute_result"
    },
    {
     "data": {
      "image/png": "[encoded data removed]",
      "text/plain": [
       "<Figure size 432x288 with 2 Axes>"
      ]
     },
     "metadata": {
      "needs_background": "light"
     },
     "output_type": "display_data"
    }
   ],
   "source": [
    "forest_cm = ConfusionMatrixDisplay(confusion_matrix(y_test, y_pred_forest_test))\n",
    "forest_cm.plot()"
   ]
  },
  {
   "cell_type": "code",
   "execution_count": null,
   "id": "06ac5f25-6fba-4872-9324-9fbfb7e96db8",
   "metadata": {
    "colab": {
     "base_uri": "https://localhost:8080/"
    },
    "executionInfo": {
     "elapsed": 1196,
     "status": "ok",
     "timestamp": 1669755393096,
     "user": {
      "displayName": "Prospero Aunuforo",
      "userId": "06502678527603390235"
     },
     "user_tz": -60
    },
    "id": "06ac5f25-6fba-4872-9324-9fbfb7e96db8",
    "outputId": "56b9723c-e83a-411b-8e45-fbe163147b74"
   },
   "outputs": [
    {
     "name": "stdout",
     "output_type": "stream",
     "text": [
      "              precision    recall  f1-score   support\n",
      "\n",
      "           0       1.00      1.00      1.00    308788\n",
      "           1       0.82      0.50      0.62       351\n",
      "           2       1.00      1.00      1.00     25845\n",
      "           3       1.00      1.00      1.00      2840\n",
      "           4       1.00      1.00      1.00     31605\n",
      "           5       1.00      0.97      0.98       459\n",
      "\n",
      "    accuracy                           1.00    369888\n",
      "   macro avg       0.97      0.91      0.93    369888\n",
      "weighted avg       1.00      1.00      1.00    369888\n",
      "\n"
     ]
    }
   ],
   "source": [
    "# review for possible overfitting:\n",
    "\n",
    "print(classification_report(y_test, y_pred_forest_test))"
   ]
  },
  {
   "cell_type": "markdown",
   "id": "01f222d3-0608-4658-9bf0-6928491dabee",
   "metadata": {
    "id": "01f222d3-0608-4658-9bf0-6928491dabee"
   },
   "source": [
    "* Saving Forest model"
   ]
  },
  {
   "cell_type": "markdown",
   "id": "9646edf5-58a9-4986-8858-6d64453beb64",
   "metadata": {
    "id": "9646edf5-58a9-4986-8858-6d64453beb64"
   },
   "source": [
    "# Artificial Neural Network (ANN) Model"
   ]
  },
  {
   "cell_type": "code",
   "execution_count": null,
   "id": "c33ae8c7-7e5b-4569-97da-54c6404e3f93",
   "metadata": {
    "colab": {
     "base_uri": "https://localhost:8080/"
    },
    "executionInfo": {
     "elapsed": 591,
     "status": "ok",
     "timestamp": 1669755416969,
     "user": {
      "displayName": "Prospero Aunuforo",
      "userId": "06502678527603390235"
     },
     "user_tz": -60
    },
    "id": "c33ae8c7-7e5b-4569-97da-54c6404e3f93",
    "outputId": "0c953fce-334a-41dc-f903-76e9313c56d6"
   },
   "outputs": [
    {
     "data": {
      "text/plain": [
       "<bound method BaseEstimator.get_params of MLPClassifier(max_iter=300, random_state=1)>"
      ]
     },
     "execution_count": 20,
     "metadata": {},
     "output_type": "execute_result"
    }
   ],
   "source": [
    "#Multi Layer Perceptron classifier\n",
    "\n",
    "mlp = MLPClassifier(random_state=1, max_iter=300)\n",
    "mlp.get_params\n"
   ]
  },
  {
   "cell_type": "code",
   "execution_count": null,
   "id": "3f086b2e-b9da-48f2-927a-7e2e286e989b",
   "metadata": {
    "colab": {
     "base_uri": "https://localhost:8080/"
    },
    "executionInfo": {
     "elapsed": 1869343,
     "status": "ok",
     "timestamp": 1669757290484,
     "user": {
      "displayName": "Prospero Aunuforo",
      "userId": "06502678527603390235"
     },
     "user_tz": -60
    },
    "id": "3f086b2e-b9da-48f2-927a-7e2e286e989b",
    "outputId": "d83be520-2414-42db-eaef-bd45da0f417d"
   },
   "outputs": [
    {
     "name": "stdout",
     "output_type": "stream",
     "text": [
      "Precision Score 0.9972721472445714\n",
      "Recall Score 0.9972721472445714\n",
      "F1 Score 0.9972721472445714\n"
     ]
    }
   ],
   "source": [
    "mlp.fit(X_train, y_train)\n",
    "y_pred_mlp_test = mlp.predict(X_test)\n",
    "\n",
    "print('Precision Score', precision_score(y_test, y_pred_mlp_test, average = 'micro'))\n",
    "print('Recall Score', recall_score(y_test, y_pred_mlp_test, average = 'micro'))\n",
    "print('F1 Score', f1_score(y_test, y_pred_mlp_test, average = 'micro'))"
   ]
  },
  {
   "cell_type": "code",
   "execution_count": null,
   "id": "2426d838-5da7-4d05-afb0-696f80de863f",
   "metadata": {
    "colab": {
     "base_uri": "https://localhost:8080/",
     "height": 297
    },
    "executionInfo": {
     "elapsed": 1026,
     "status": "ok",
     "timestamp": 1669757652159,
     "user": {
      "displayName": "Prospero Aunuforo",
      "userId": "06502678527603390235"
     },
     "user_tz": -60
    },
    "id": "2426d838-5da7-4d05-afb0-696f80de863f",
    "outputId": "c53e0483-d45e-433b-d78e-01f2b175d339"
   },
   "outputs": [
    {
     "data": {
      "text/plain": [
       "<sklearn.metrics._plot.confusion_matrix.ConfusionMatrixDisplay at 0x7f5ab1122990>"
      ]
     },
     "execution_count": 22,
     "metadata": {},
     "output_type": "execute_result"
    },
    {
     "data": {
      "image/png": "[encoded data removed]",
      "text/plain": [
       "<Figure size 432x288 with 2 Axes>"
      ]
     },
     "metadata": {
      "needs_background": "light"
     },
     "output_type": "display_data"
    }
   ],
   "source": [
    "mlp_cm = ConfusionMatrixDisplay(confusion_matrix(y_test, y_pred_mlp_test))\n",
    "mlp_cm.plot()"
   ]
  },
  {
   "cell_type": "code",
   "execution_count": null,
   "id": "81b8eb92-29f6-4e59-98b5-3ad2a36f2a54",
   "metadata": {
    "colab": {
     "base_uri": "https://localhost:8080/"
    },
    "executionInfo": {
     "elapsed": 2177,
     "status": "ok",
     "timestamp": 1669757722902,
     "user": {
      "displayName": "Prospero Aunuforo",
      "userId": "06502678527603390235"
     },
     "user_tz": -60
    },
    "id": "81b8eb92-29f6-4e59-98b5-3ad2a36f2a54",
    "outputId": "a55db85c-841e-4f22-cbdc-3ec0777457ef"
   },
   "outputs": [
    {
     "name": "stdout",
     "output_type": "stream",
     "text": [
      "              precision    recall  f1-score   support\n",
      "\n",
      "           0       1.00      1.00      1.00    308788\n",
      "           1       0.97      0.42      0.58       351\n",
      "           2       1.00      0.99      1.00     25845\n",
      "           3       0.97      0.99      0.98      2840\n",
      "           4       1.00      1.00      1.00     31605\n",
      "           5       0.95      0.08      0.15       459\n",
      "\n",
      "    accuracy                           1.00    369888\n",
      "   macro avg       0.98      0.75      0.78    369888\n",
      "weighted avg       1.00      1.00      1.00    369888\n",
      "\n"
     ]
    }
   ],
   "source": [
    "print(classification_report(y_test, y_pred_mlp_test))"
   ]
  },
  {
   "cell_type": "markdown",
   "id": "5ba99e87-f04a-4da9-aedd-46f890cbc371",
   "metadata": {
    "id": "5ba99e87-f04a-4da9-aedd-46f890cbc371"
   },
   "source": [
    "# Support Vector Machine"
   ]
  },
  {
   "cell_type": "markdown",
   "id": "-FsTmWfpiyjS",
   "metadata": {
    "id": "-FsTmWfpiyjS"
   },
   "source": [
    "* Skip and run last: runtime suboptimal"
   ]
  },
  {
   "cell_type": "code",
   "execution_count": null,
   "id": "e8e157b2-58fd-40fe-af8f-18b10b9fe695",
   "metadata": {
    "id": "e8e157b2-58fd-40fe-af8f-18b10b9fe695"
   },
   "outputs": [],
   "source": [
    "svc = SVC(kernel='rbf', probability=True, gamma=\"scale\", C=1)\n",
    "svc.fit(X_train, y_train)\n",
    "\n",
    "y_pred_svc_test = svc.predict(X_test)\n",
    "\n",
    "print('Precision Score', precision_score(y_test, y_pred_svc_test, average = 'micro'))\n",
    "print('Recall Score', recall_score(y_test, y_pred_svc_test, average = 'micro'))\n",
    "print('F1 Score', f1_score(y_test, y_pred_svc_test, average = 'micro'))"
   ]
  },
  {
   "cell_type": "code",
   "execution_count": null,
   "id": "c24d3c98-1125-4a11-9105-5f0c464c3033",
   "metadata": {
    "id": "c24d3c98-1125-4a11-9105-5f0c464c3033"
   },
   "outputs": [],
   "source": [
    "svc_cm = ConfusionMatrixDisplay(confusion_matrix(y_test, y_pred_mlp_test))\n",
    "svc_cm.plot()"
   ]
  },
  {
   "cell_type": "code",
   "execution_count": null,
   "id": "0ndIn4iXINIt",
   "metadata": {
    "id": "0ndIn4iXINIt"
   },
   "outputs": [],
   "source": [
    "print(classification_report(y_test, y_pred_mlp_test))"
   ]
  },
  {
   "cell_type": "markdown",
   "id": "kuo8PnYFvyqR",
   "metadata": {
    "id": "kuo8PnYFvyqR"
   },
   "source": [
    "# Undersampling Dataset"
   ]
  },
  {
   "cell_type": "code",
   "execution_count": 46,
   "id": "nttJ5olXv7l5",
   "metadata": {
    "colab": {
     "base_uri": "https://localhost:8080/"
    },
    "executionInfo": {
     "elapsed": 523,
     "status": "ok",
     "timestamp": 1669896448635,
     "user": {
      "displayName": "Prospero Aunuforo",
      "userId": "06502678527603390235"
     },
     "user_tz": -60
    },
    "id": "nttJ5olXv7l5",
    "outputId": "8500e6ed-f2e7-40c5-f9bf-2ca3bd7b5985"
   },
   "outputs": [
    {
     "name": "stdout",
     "output_type": "stream",
     "text": [
      "Original dataset shape Counter({'BENIGN': 1544500, 'PortScan': 158930, 'DDoS': 128027, 'Patator': 13835, 'Web Attack': 2180, 'Bot': 1966})\n"
     ]
    }
   ],
   "source": [
    "print('Original dataset shape %s' % Counter(y))"
   ]
  },
  {
   "cell_type": "code",
   "execution_count": 47,
   "id": "8eeQmD5pyjpl",
   "metadata": {
    "colab": {
     "base_uri": "https://localhost:8080/"
    },
    "executionInfo": {
     "elapsed": 2209,
     "status": "ok",
     "timestamp": 1669896454800,
     "user": {
      "displayName": "Prospero Aunuforo",
      "userId": "06502678527603390235"
     },
     "user_tz": -60
    },
    "id": "8eeQmD5pyjpl",
    "outputId": "f7a1274a-dd4c-433e-abcc-174e8c601d88"
   },
   "outputs": [
    {
     "name": "stdout",
     "output_type": "stream",
     "text": [
      "Resampled dataset shape Counter({0: 1966, 1: 1966, 2: 1966, 3: 1966, 4: 1966, 5: 1966})\n"
     ]
    }
   ],
   "source": [
    "rand_under_sampling = RandomUnderSampler(random_state=42)\n",
    "X_res, y_res = rand_under_sampling.fit_resample(X, y_cat)\n",
    "\n",
    "print('Resampled dataset shape %s' % Counter(y_res))"
   ]
  },
  {
   "cell_type": "markdown",
   "id": "Y_NCaPSv6XZC",
   "metadata": {
    "id": "Y_NCaPSv6XZC"
   },
   "source": [
    "* train-test split for undersampled dataset\n"
   ]
  },
  {
   "cell_type": "code",
   "execution_count": 48,
   "id": "bAHQx7hnyjkx",
   "metadata": {
    "colab": {
     "base_uri": "https://localhost:8080/",
     "height": 352
    },
    "executionInfo": {
     "elapsed": 916,
     "status": "ok",
     "timestamp": 1669896462933,
     "user": {
      "displayName": "Prospero Aunuforo",
      "userId": "06502678527603390235"
     },
     "user_tz": -60
    },
    "id": "bAHQx7hnyjkx",
    "outputId": "129c2895-891a-4a0a-c8e6-f847e9448017"
   },
   "outputs": [
    {
     "data": {
      "text/html": [
       "\n",
       "  <div id=\"df-4812836c-d9be-441a-9700-5bc5619425bc\">\n",
       "    <div class=\"colab-df-container\">\n",
       "      <div>\n",
       "<style scoped>\n",
       "    .dataframe tbody tr th:only-of-type {\n",
       "        vertical-align: middle;\n",
       "    }\n",
       "\n",
       "    .dataframe tbody tr th {\n",
       "        vertical-align: top;\n",
       "    }\n",
       "\n",
       "    .dataframe thead th {\n",
       "        text-align: right;\n",
       "    }\n",
       "</style>\n",
       "<table border=\"1\" class=\"dataframe\">\n",
       "  <thead>\n",
       "    <tr style=\"text-align: right;\">\n",
       "      <th></th>\n",
       "      <th>Destination Port</th>\n",
       "      <th>Flow Duration</th>\n",
       "      <th>Total Fwd Packets</th>\n",
       "      <th>Total Backward Packets</th>\n",
       "      <th>Total Length of Fwd Packets</th>\n",
       "      <th>Total Length of Bwd Packets</th>\n",
       "      <th>Fwd Packet Length Max</th>\n",
       "      <th>Fwd Packet Length Min</th>\n",
       "      <th>Fwd Packet Length Mean</th>\n",
       "      <th>Fwd Packet Length Std</th>\n",
       "      <th>...</th>\n",
       "      <th>act_data_pkt_fwd</th>\n",
       "      <th>min_seg_size_forward</th>\n",
       "      <th>Active Mean</th>\n",
       "      <th>Active Std</th>\n",
       "      <th>Active Max</th>\n",
       "      <th>Active Min</th>\n",
       "      <th>Idle Mean</th>\n",
       "      <th>Idle Std</th>\n",
       "      <th>Idle Max</th>\n",
       "      <th>Idle Min</th>\n",
       "    </tr>\n",
       "  </thead>\n",
       "  <tbody>\n",
       "    <tr>\n",
       "      <th>9772</th>\n",
       "      <td>0.007813</td>\n",
       "      <td>5.416666e-07</td>\n",
       "      <td>0.000000</td>\n",
       "      <td>0.000003</td>\n",
       "      <td>8.235825e-07</td>\n",
       "      <td>9.153974e-09</td>\n",
       "      <td>0.000081</td>\n",
       "      <td>0.00086</td>\n",
       "      <td>0.000337</td>\n",
       "      <td>0.000000</td>\n",
       "      <td>...</td>\n",
       "      <td>0.000000</td>\n",
       "      <td>1.0</td>\n",
       "      <td>0.0</td>\n",
       "      <td>0.0</td>\n",
       "      <td>0.0</td>\n",
       "      <td>0.0</td>\n",
       "      <td>0.0</td>\n",
       "      <td>0.0</td>\n",
       "      <td>0.0</td>\n",
       "      <td>0.0</td>\n",
       "    </tr>\n",
       "    <tr>\n",
       "      <th>8704</th>\n",
       "      <td>0.146410</td>\n",
       "      <td>4.583333e-07</td>\n",
       "      <td>0.000000</td>\n",
       "      <td>0.000003</td>\n",
       "      <td>0.000000e+00</td>\n",
       "      <td>9.153974e-09</td>\n",
       "      <td>0.000000</td>\n",
       "      <td>0.00000</td>\n",
       "      <td>0.000000</td>\n",
       "      <td>0.000000</td>\n",
       "      <td>...</td>\n",
       "      <td>0.000000</td>\n",
       "      <td>1.0</td>\n",
       "      <td>0.0</td>\n",
       "      <td>0.0</td>\n",
       "      <td>0.0</td>\n",
       "      <td>0.0</td>\n",
       "      <td>0.0</td>\n",
       "      <td>0.0</td>\n",
       "      <td>0.0</td>\n",
       "      <td>0.0</td>\n",
       "    </tr>\n",
       "    <tr>\n",
       "      <th>10447</th>\n",
       "      <td>0.001221</td>\n",
       "      <td>4.970653e-02</td>\n",
       "      <td>0.000009</td>\n",
       "      <td>0.000003</td>\n",
       "      <td>0.000000e+00</td>\n",
       "      <td>0.000000e+00</td>\n",
       "      <td>0.000000</td>\n",
       "      <td>0.00000</td>\n",
       "      <td>0.000000</td>\n",
       "      <td>0.000000</td>\n",
       "      <td>...</td>\n",
       "      <td>0.000000</td>\n",
       "      <td>1.0</td>\n",
       "      <td>0.0</td>\n",
       "      <td>0.0</td>\n",
       "      <td>0.0</td>\n",
       "      <td>0.0</td>\n",
       "      <td>0.0</td>\n",
       "      <td>0.0</td>\n",
       "      <td>0.0</td>\n",
       "      <td>0.0</td>\n",
       "    </tr>\n",
       "    <tr>\n",
       "      <th>4466</th>\n",
       "      <td>0.001221</td>\n",
       "      <td>5.805675e-03</td>\n",
       "      <td>0.000009</td>\n",
       "      <td>0.000017</td>\n",
       "      <td>1.070657e-05</td>\n",
       "      <td>1.770836e-05</td>\n",
       "      <td>0.000806</td>\n",
       "      <td>0.00000</td>\n",
       "      <td>0.001459</td>\n",
       "      <td>0.001440</td>\n",
       "      <td>...</td>\n",
       "      <td>0.000009</td>\n",
       "      <td>1.0</td>\n",
       "      <td>0.0</td>\n",
       "      <td>0.0</td>\n",
       "      <td>0.0</td>\n",
       "      <td>0.0</td>\n",
       "      <td>0.0</td>\n",
       "      <td>0.0</td>\n",
       "      <td>0.0</td>\n",
       "      <td>0.0</td>\n",
       "    </tr>\n",
       "    <tr>\n",
       "      <th>6293</th>\n",
       "      <td>0.000320</td>\n",
       "      <td>1.791667e-06</td>\n",
       "      <td>0.000005</td>\n",
       "      <td>0.000003</td>\n",
       "      <td>5.765077e-06</td>\n",
       "      <td>0.000000e+00</td>\n",
       "      <td>0.000564</td>\n",
       "      <td>0.00000</td>\n",
       "      <td>0.001178</td>\n",
       "      <td>0.001389</td>\n",
       "      <td>...</td>\n",
       "      <td>0.000000</td>\n",
       "      <td>1.0</td>\n",
       "      <td>0.0</td>\n",
       "      <td>0.0</td>\n",
       "      <td>0.0</td>\n",
       "      <td>0.0</td>\n",
       "      <td>0.0</td>\n",
       "      <td>0.0</td>\n",
       "      <td>0.0</td>\n",
       "      <td>0.0</td>\n",
       "    </tr>\n",
       "  </tbody>\n",
       "</table>\n",
       "<p>5 rows × 76 columns</p>\n",
       "</div>\n",
       "      <button class=\"colab-df-convert\" onclick=\"convertToInteractive('df-4812836c-d9be-441a-9700-5bc5619425bc')\"\n",
       "              title=\"Convert this dataframe to an interactive table.\"\n",
       "              style=\"display:none;\">\n",
       "        \n",
       "  <svg xmlns=\"http://www.w3.org/2000/svg\" height=\"24px\"viewBox=\"0 0 24 24\"\n",
       "       width=\"24px\">\n",
       "    <path d=\"M0 0h24v24H0V0z\" fill=\"none\"/>\n",
       "    <path d=\"M18.56 5.44l.94 2.06.94-2.06 2.06-.94-2.06-.94-.94-2.06-.94 2.06-2.06.94zm-11 1L8.5 8.5l.94-2.06 2.06-.94-2.06-.94L8.5 2.5l-.94 2.06-2.06.94zm10 10l.94 2.06.94-2.06 2.06-.94-2.06-.94-.94-2.06-.94 2.06-2.06.94z\"/><path d=\"M17.41 7.96l-1.37-1.37c-.4-.4-.92-.59-1.43-.59-.52 0-1.04.2-1.43.59L10.3 9.45l-7.72 7.72c-.78.78-.78 2.05 0 2.83L4 21.41c.39.39.9.59 1.41.59.51 0 1.02-.2 1.41-.59l7.78-7.78 2.81-2.81c.8-.78.8-2.07 0-2.86zM5.41 20L4 18.59l7.72-7.72 1.47 1.35L5.41 20z\"/>\n",
       "  </svg>\n",
       "      </button>\n",
       "      \n",
       "  <style>\n",
       "    .colab-df-container {\n",
       "      display:flex;\n",
       "      flex-wrap:wrap;\n",
       "      gap: 12px;\n",
       "    }\n",
       "\n",
       "    .colab-df-convert {\n",
       "      background-color: #E8F0FE;\n",
       "      border: none;\n",
       "      border-radius: 50%;\n",
       "      cursor: pointer;\n",
       "      display: none;\n",
       "      fill: #1967D2;\n",
       "      height: 32px;\n",
       "      padding: 0 0 0 0;\n",
       "      width: 32px;\n",
       "    }\n",
       "\n",
       "    .colab-df-convert:hover {\n",
       "      background-color: #E2EBFA;\n",
       "      box-shadow: 0px 1px 2px rgba(60, 64, 67, 0.3), 0px 1px 3px 1px rgba(60, 64, 67, 0.15);\n",
       "      fill: #174EA6;\n",
       "    }\n",
       "\n",
       "    [theme=dark] .colab-df-convert {\n",
       "      background-color: #3B4455;\n",
       "      fill: #D2E3FC;\n",
       "    }\n",
       "\n",
       "    [theme=dark] .colab-df-convert:hover {\n",
       "      background-color: #434B5C;\n",
       "      box-shadow: 0px 1px 3px 1px rgba(0, 0, 0, 0.15);\n",
       "      filter: drop-shadow(0px 1px 2px rgba(0, 0, 0, 0.3));\n",
       "      fill: #FFFFFF;\n",
       "    }\n",
       "  </style>\n",
       "\n",
       "      <script>\n",
       "        const buttonEl =\n",
       "          document.querySelector('#df-4812836c-d9be-441a-9700-5bc5619425bc button.colab-df-convert');\n",
       "        buttonEl.style.display =\n",
       "          google.colab.kernel.accessAllowed ? 'block' : 'none';\n",
       "\n",
       "        async function convertToInteractive(key) {\n",
       "          const element = document.querySelector('#df-4812836c-d9be-441a-9700-5bc5619425bc');\n",
       "          const dataTable =\n",
       "            await google.colab.kernel.invokeFunction('convertToInteractive',\n",
       "                                                     [key], {});\n",
       "          if (!dataTable) return;\n",
       "\n",
       "          const docLinkHtml = 'Like what you see? Visit the ' +\n",
       "            '<a target=\"_blank\" href=https://colab.research.google.com/notebooks/data_table.ipynb>data table notebook</a>'\n",
       "            + ' to learn more about interactive tables.';\n",
       "          element.innerHTML = '';\n",
       "          dataTable['output_type'] = 'display_data';\n",
       "          await google.colab.output.renderOutput(dataTable, element);\n",
       "          const docLink = document.createElement('div');\n",
       "          docLink.innerHTML = docLinkHtml;\n",
       "          element.appendChild(docLink);\n",
       "        }\n",
       "      </script>\n",
       "    </div>\n",
       "  </div>\n",
       "  "
      ],
      "text/plain": [
       "        Destination Port   Flow Duration   Total Fwd Packets  \\\n",
       "9772            0.007813    5.416666e-07            0.000000   \n",
       "8704            0.146410    4.583333e-07            0.000000   \n",
       "10447           0.001221    4.970653e-02            0.000009   \n",
       "4466            0.001221    5.805675e-03            0.000009   \n",
       "6293            0.000320    1.791667e-06            0.000005   \n",
       "\n",
       "        Total Backward Packets  Total Length of Fwd Packets  \\\n",
       "9772                  0.000003                 8.235825e-07   \n",
       "8704                  0.000003                 0.000000e+00   \n",
       "10447                 0.000003                 0.000000e+00   \n",
       "4466                  0.000017                 1.070657e-05   \n",
       "6293                  0.000003                 5.765077e-06   \n",
       "\n",
       "        Total Length of Bwd Packets   Fwd Packet Length Max  \\\n",
       "9772                   9.153974e-09                0.000081   \n",
       "8704                   9.153974e-09                0.000000   \n",
       "10447                  0.000000e+00                0.000000   \n",
       "4466                   1.770836e-05                0.000806   \n",
       "6293                   0.000000e+00                0.000564   \n",
       "\n",
       "        Fwd Packet Length Min   Fwd Packet Length Mean  \\\n",
       "9772                  0.00086                 0.000337   \n",
       "8704                  0.00000                 0.000000   \n",
       "10447                 0.00000                 0.000000   \n",
       "4466                  0.00000                 0.001459   \n",
       "6293                  0.00000                 0.001178   \n",
       "\n",
       "        Fwd Packet Length Std  ...   act_data_pkt_fwd   min_seg_size_forward  \\\n",
       "9772                 0.000000  ...           0.000000                    1.0   \n",
       "8704                 0.000000  ...           0.000000                    1.0   \n",
       "10447                0.000000  ...           0.000000                    1.0   \n",
       "4466                 0.001440  ...           0.000009                    1.0   \n",
       "6293                 0.001389  ...           0.000000                    1.0   \n",
       "\n",
       "       Active Mean   Active Std   Active Max   Active Min  Idle Mean  \\\n",
       "9772           0.0          0.0          0.0          0.0        0.0   \n",
       "8704           0.0          0.0          0.0          0.0        0.0   \n",
       "10447          0.0          0.0          0.0          0.0        0.0   \n",
       "4466           0.0          0.0          0.0          0.0        0.0   \n",
       "6293           0.0          0.0          0.0          0.0        0.0   \n",
       "\n",
       "        Idle Std   Idle Max   Idle Min  \n",
       "9772         0.0        0.0        0.0  \n",
       "8704         0.0        0.0        0.0  \n",
       "10447        0.0        0.0        0.0  \n",
       "4466         0.0        0.0        0.0  \n",
       "6293         0.0        0.0        0.0  \n",
       "\n",
       "[5 rows x 76 columns]"
      ]
     },
     "execution_count": 48,
     "metadata": {},
     "output_type": "execute_result"
    }
   ],
   "source": [
    "X_train_rus, X_test_rus, y_train_rus, y_test_rus = train_test_split(X_res, y_res, test_size = 0.20, random_state = 7)\n",
    "X_train_rus.head()"
   ]
  },
  {
   "cell_type": "markdown",
   "id": "EqnwpaJf7Va9",
   "metadata": {
    "id": "EqnwpaJf7Va9"
   },
   "source": [
    "## Random Forest Model (Undersampled)"
   ]
  },
  {
   "cell_type": "code",
   "execution_count": null,
   "id": "JTNMrWR9yjhR",
   "metadata": {
    "colab": {
     "base_uri": "https://localhost:8080/"
    },
    "executionInfo": {
     "elapsed": 1961,
     "status": "ok",
     "timestamp": 1669811148221,
     "user": {
      "displayName": "Prospero Aunuforo",
      "userId": "06502678527603390235"
     },
     "user_tz": -60
    },
    "id": "JTNMrWR9yjhR",
    "outputId": "c05941b8-d6e9-4845-bce7-1910540a73ad"
   },
   "outputs": [
    {
     "data": {
      "text/plain": [
       "array([5, 2, 2, ..., 0, 2, 2])"
      ]
     },
     "execution_count": 18,
     "metadata": {},
     "output_type": "execute_result"
    }
   ],
   "source": [
    "ForestModel_rus = RandomForestClassifier()\n",
    "ForestModel_rus.fit(X_train_rus, y_train_rus)\n",
    "\n",
    "y_pred_rf_rus = ForestModel_rus.predict(X_test_rus)\n",
    "y_pred_rf_rus"
   ]
  },
  {
   "cell_type": "code",
   "execution_count": null,
   "id": "mXqrTRlYyjcf",
   "metadata": {
    "colab": {
     "base_uri": "https://localhost:8080/"
    },
    "executionInfo": {
     "elapsed": 13,
     "status": "ok",
     "timestamp": 1669811150091,
     "user": {
      "displayName": "Prospero Aunuforo",
      "userId": "06502678527603390235"
     },
     "user_tz": -60
    },
    "id": "mXqrTRlYyjcf",
    "outputId": "adeb4655-4096-4e52-caba-56b7973c76aa"
   },
   "outputs": [
    {
     "name": "stdout",
     "output_type": "stream",
     "text": [
      "Precision Score 0.9949152542372881\n",
      "Recall Score 0.9949152542372881\n",
      "F1 Score 0.9949152542372881\n"
     ]
    }
   ],
   "source": [
    "print('Precision Score', precision_score(y_test_rus, y_pred_rf_rus, average = 'micro'))\n",
    "print('Recall Score', recall_score(y_test_rus, y_pred_rf_rus, average = 'micro'))\n",
    "print('F1 Score', f1_score(y_test_rus, y_pred_rf_rus, average = 'micro'))"
   ]
  },
  {
   "cell_type": "code",
   "execution_count": null,
   "id": "4zYkwka_yjWN",
   "metadata": {
    "colab": {
     "base_uri": "https://localhost:8080/",
     "height": 297
    },
    "executionInfo": {
     "elapsed": 1689,
     "status": "ok",
     "timestamp": 1669811154714,
     "user": {
      "displayName": "Prospero Aunuforo",
      "userId": "06502678527603390235"
     },
     "user_tz": -60
    },
    "id": "4zYkwka_yjWN",
    "outputId": "56208444-50ca-4a15-8f47-9de8a9195c7c"
   },
   "outputs": [
    {
     "data": {
      "text/plain": [
       "<sklearn.metrics._plot.confusion_matrix.ConfusionMatrixDisplay at 0x7fe300a86510>"
      ]
     },
     "execution_count": 20,
     "metadata": {},
     "output_type": "execute_result"
    },
    {
     "data": {
      "image/png": "[encoded data removed]",
      "text/plain": [
       "<Figure size 432x288 with 2 Axes>"
      ]
     },
     "metadata": {
      "needs_background": "light"
     },
     "output_type": "display_data"
    }
   ],
   "source": [
    "cm_rus = ConfusionMatrixDisplay(confusion_matrix(y_test_rus, y_pred_rf_rus))\n",
    "cm_rus.plot()"
   ]
  },
  {
   "cell_type": "code",
   "execution_count": null,
   "id": "DcNboD7byjM9",
   "metadata": {
    "colab": {
     "base_uri": "https://localhost:8080/"
    },
    "executionInfo": {
     "elapsed": 848,
     "status": "ok",
     "timestamp": 1669811163771,
     "user": {
      "displayName": "Prospero Aunuforo",
      "userId": "06502678527603390235"
     },
     "user_tz": -60
    },
    "id": "DcNboD7byjM9",
    "outputId": "3bba6ffb-6577-4b23-a6b7-35d5df9257fd"
   },
   "outputs": [
    {
     "name": "stdout",
     "output_type": "stream",
     "text": [
      "              precision    recall  f1-score   support\n",
      "\n",
      "           0       0.98      0.99      0.98       371\n",
      "           1       0.99      1.00      1.00       406\n",
      "           2       1.00      1.00      1.00       427\n",
      "           3       1.00      1.00      1.00       392\n",
      "           4       1.00      1.00      1.00       382\n",
      "           5       1.00      0.98      0.99       382\n",
      "\n",
      "    accuracy                           0.99      2360\n",
      "   macro avg       0.99      0.99      0.99      2360\n",
      "weighted avg       0.99      0.99      0.99      2360\n",
      "\n"
     ]
    }
   ],
   "source": [
    "print(classification_report(y_test_rus, y_pred_rf_rus))"
   ]
  },
  {
   "cell_type": "markdown",
   "id": "R9aKGWosvyqQ",
   "metadata": {
    "id": "R9aKGWosvyqQ"
   },
   "source": [
    "# Artificial Neural Network Model (Undersampled)"
   ]
  },
  {
   "cell_type": "code",
   "execution_count": null,
   "id": "TgXov-aIwsAE",
   "metadata": {
    "colab": {
     "base_uri": "https://localhost:8080/"
    },
    "executionInfo": {
     "elapsed": 479,
     "status": "ok",
     "timestamp": 1669811361400,
     "user": {
      "displayName": "Prospero Aunuforo",
      "userId": "06502678527603390235"
     },
     "user_tz": -60
    },
    "id": "TgXov-aIwsAE",
    "outputId": "a79489d9-93e5-400d-dd8b-23df99abd400"
   },
   "outputs": [
    {
     "data": {
      "text/plain": [
       "<bound method BaseEstimator.get_params of MLPClassifier(max_iter=300, random_state=1)>"
      ]
     },
     "execution_count": 22,
     "metadata": {},
     "output_type": "execute_result"
    }
   ],
   "source": [
    "#Multi Layer Perceptron classifier\n",
    "\n",
    "mlp_rus = MLPClassifier(random_state=1, max_iter=300)\n",
    "mlp_rus.get_params\n"
   ]
  },
  {
   "cell_type": "code",
   "execution_count": null,
   "id": "vDKld7niwr5T",
   "metadata": {
    "colab": {
     "base_uri": "https://localhost:8080/"
    },
    "executionInfo": {
     "elapsed": 33187,
     "status": "ok",
     "timestamp": 1669811404532,
     "user": {
      "displayName": "Prospero Aunuforo",
      "userId": "06502678527603390235"
     },
     "user_tz": -60
    },
    "id": "vDKld7niwr5T",
    "outputId": "40b0fdbe-4e10-4f47-f6df-e3ec7c38345b"
   },
   "outputs": [
    {
     "name": "stdout",
     "output_type": "stream",
     "text": [
      "Precision Score 0.9800847457627119\n",
      "Recall Score 0.9800847457627119\n",
      "F1 Score 0.9800847457627119\n"
     ]
    }
   ],
   "source": [
    "mlp_rus.fit(X_train_rus, y_train_rus)\n",
    "y_pred_mlp_rus = mlp_rus.predict(X_test_rus)\n",
    "\n",
    "print('Precision Score', precision_score(y_test_rus, y_pred_mlp_rus, average = 'micro'))\n",
    "print('Recall Score', recall_score(y_test_rus, y_pred_mlp_rus, average = 'micro'))\n",
    "print('F1 Score', f1_score(y_test_rus, y_pred_mlp_rus, average = 'micro'));"
   ]
  },
  {
   "cell_type": "code",
   "execution_count": null,
   "id": "EqSxaR3ywr10",
   "metadata": {
    "colab": {
     "base_uri": "https://localhost:8080/",
     "height": 297
    },
    "executionInfo": {
     "elapsed": 980,
     "status": "ok",
     "timestamp": 1669811424316,
     "user": {
      "displayName": "Prospero Aunuforo",
      "userId": "06502678527603390235"
     },
     "user_tz": -60
    },
    "id": "EqSxaR3ywr10",
    "outputId": "2885111a-10cc-4f22-b1fe-44f277901b05"
   },
   "outputs": [
    {
     "data": {
      "text/plain": [
       "<sklearn.metrics._plot.confusion_matrix.ConfusionMatrixDisplay at 0x7fe2f9c8ec10>"
      ]
     },
     "execution_count": 24,
     "metadata": {},
     "output_type": "execute_result"
    },
    {
     "data": {
      "image/png": "[encoded data removed]",
      "text/plain": [
       "<Figure size 432x288 with 2 Axes>"
      ]
     },
     "metadata": {
      "needs_background": "light"
     },
     "output_type": "display_data"
    }
   ],
   "source": [
    "mlp_cm_rus = ConfusionMatrixDisplay(confusion_matrix(y_test_rus, y_pred_mlp_rus))\n",
    "mlp_cm_rus.plot()"
   ]
  },
  {
   "cell_type": "code",
   "execution_count": null,
   "id": "5LmsU5vlwrqy",
   "metadata": {
    "colab": {
     "base_uri": "https://localhost:8080/"
    },
    "executionInfo": {
     "elapsed": 710,
     "status": "ok",
     "timestamp": 1669811432077,
     "user": {
      "displayName": "Prospero Aunuforo",
      "userId": "06502678527603390235"
     },
     "user_tz": -60
    },
    "id": "5LmsU5vlwrqy",
    "outputId": "ec08e1b4-50a9-4fe5-be1c-694ffa713357"
   },
   "outputs": [
    {
     "name": "stdout",
     "output_type": "stream",
     "text": [
      "              precision    recall  f1-score   support\n",
      "\n",
      "           0       0.96      0.94      0.95       371\n",
      "           1       0.98      1.00      0.99       406\n",
      "           2       1.00      0.99      0.99       427\n",
      "           3       0.95      1.00      0.98       392\n",
      "           4       0.99      1.00      1.00       382\n",
      "           5       1.00      0.95      0.97       382\n",
      "\n",
      "    accuracy                           0.98      2360\n",
      "   macro avg       0.98      0.98      0.98      2360\n",
      "weighted avg       0.98      0.98      0.98      2360\n",
      "\n"
     ]
    }
   ],
   "source": [
    "print(classification_report(y_test_rus, y_pred_mlp_rus))"
   ]
  },
  {
   "cell_type": "code",
   "execution_count": null,
   "id": "dv5jCAjsToSS",
   "metadata": {
    "id": "dv5jCAjsToSS"
   },
   "outputs": [],
   "source": []
  },
  {
   "cell_type": "markdown",
   "id": "BcAPDLeFw_3V",
   "metadata": {
    "id": "BcAPDLeFw_3V"
   },
   "source": [
    "# Support Vector Machine (Undersampled)"
   ]
  },
  {
   "cell_type": "code",
   "execution_count": null,
   "id": "256sdcmPyVrw",
   "metadata": {
    "colab": {
     "base_uri": "https://localhost:8080/"
    },
    "executionInfo": {
     "elapsed": 18402,
     "status": "ok",
     "timestamp": 1669811477038,
     "user": {
      "displayName": "Prospero Aunuforo",
      "userId": "06502678527603390235"
     },
     "user_tz": -60
    },
    "id": "256sdcmPyVrw",
    "outputId": "6f97785b-8c37-444c-da68-a5067884da24"
   },
   "outputs": [
    {
     "name": "stdout",
     "output_type": "stream",
     "text": [
      "Precision Score 0.8305084745762712\n",
      "Recall Score 0.8305084745762712\n",
      "F1 Score 0.8305084745762712\n"
     ]
    }
   ],
   "source": [
    "svc_rus = SVC(kernel='rbf', probability=True, gamma=\"scale\", C=1)\n",
    "svc_rus.fit(X_train_rus, y_train_rus)\n",
    "\n",
    "# predicting based on support vector Machine\n",
    "y_pred_svc_rus = svc_rus.predict(X_test_rus)\n",
    "\n",
    "print('Precision Score', precision_score(y_test_rus, y_pred_svc_rus, average = 'micro'))\n",
    "print('Recall Score', recall_score(y_test_rus, y_pred_svc_rus, average = 'micro'))\n",
    "print('F1 Score', f1_score(y_test_rus, y_pred_svc_rus, average = 'micro'))"
   ]
  },
  {
   "cell_type": "code",
   "execution_count": null,
   "id": "Ne5pAafkyVdJ",
   "metadata": {
    "colab": {
     "base_uri": "https://localhost:8080/",
     "height": 297
    },
    "executionInfo": {
     "elapsed": 1162,
     "status": "ok",
     "timestamp": 1669811482230,
     "user": {
      "displayName": "Prospero Aunuforo",
      "userId": "06502678527603390235"
     },
     "user_tz": -60
    },
    "id": "Ne5pAafkyVdJ",
    "outputId": "52f1e74a-74cb-4c42-86f3-1dd70e4ae01f"
   },
   "outputs": [
    {
     "data": {
      "text/plain": [
       "<sklearn.metrics._plot.confusion_matrix.ConfusionMatrixDisplay at 0x7fe2fa7a7250>"
      ]
     },
     "execution_count": 27,
     "metadata": {},
     "output_type": "execute_result"
    },
    {
     "data": {
      "image/png": "[encoded data removed]",
      "text/plain": [
       "<Figure size 432x288 with 2 Axes>"
      ]
     },
     "metadata": {
      "needs_background": "light"
     },
     "output_type": "display_data"
    }
   ],
   "source": [
    "mlp_cm = ConfusionMatrixDisplay(confusion_matrix(y_test_rus, y_pred_svc_rus))\n",
    "mlp_cm.plot()"
   ]
  },
  {
   "cell_type": "code",
   "execution_count": null,
   "id": "DY6I0BtFyaSV",
   "metadata": {
    "colab": {
     "base_uri": "https://localhost:8080/"
    },
    "executionInfo": {
     "elapsed": 871,
     "status": "ok",
     "timestamp": 1669811514192,
     "user": {
      "displayName": "Prospero Aunuforo",
      "userId": "06502678527603390235"
     },
     "user_tz": -60
    },
    "id": "DY6I0BtFyaSV",
    "outputId": "4ab4864a-07f9-48ea-fa42-2ba6018caee3"
   },
   "outputs": [
    {
     "name": "stdout",
     "output_type": "stream",
     "text": [
      "              precision    recall  f1-score   support\n",
      "\n",
      "           0       0.96      0.78      0.86       371\n",
      "           1       0.83      0.34      0.49       406\n",
      "           2       0.93      1.00      0.96       427\n",
      "           3       0.81      0.99      0.90       392\n",
      "           4       0.62      0.99      0.76       382\n",
      "           5       0.99      0.87      0.93       382\n",
      "\n",
      "    accuracy                           0.83      2360\n",
      "   macro avg       0.86      0.83      0.82      2360\n",
      "weighted avg       0.86      0.83      0.82      2360\n",
      "\n"
     ]
    }
   ],
   "source": [
    "print(classification_report(y_test_rus, y_pred_svc_rus))"
   ]
  }
 ],
 "metadata": {
  "colab": {
   "collapsed_sections": [
    "97ec9946-8ddf-4273-b3e5-77ac5bdf7f49",
    "9646edf5-58a9-4986-8858-6d64453beb64",
    "5ba99e87-f04a-4da9-aedd-46f890cbc371",
    "EqnwpaJf7Va9",
    "R9aKGWosvyqQ"
   ],
   "provenance": []
  },
  "kernelspec": {
   "display_name": "Python 3 (ipykernel)",
   "language": "python",
   "name": "python3"
  },
  "language_info": {
   "codemirror_mode": {
    "name": "ipython",
    "version": 3
   },
   "file_extension": ".py",
   "mimetype": "text/x-python",
   "name": "python",
   "nbconvert_exporter": "python",
   "pygments_lexer": "ipython3",
   "version": "3.7.7"
  },
  "vscode": {
   "interpreter": {
    "hash": "6759f06400d2fe4a2d9d8d886575a6740e2b5b0c40aadf58e001901f986074b2"
   }
  }
 },
 "nbformat": 4,
 "nbformat_minor": 5
}
